{
 "cells": [
  {
   "cell_type": "markdown",
   "metadata": {},
   "source": [
    "# Data Loader\n",
    "\n",
    "This is the rebuild of data process functions. "
   ]
  },
  {
   "cell_type": "markdown",
   "metadata": {},
   "source": [
    "## Load Packages"
   ]
  },
  {
   "cell_type": "code",
   "execution_count": null,
   "metadata": {},
   "outputs": [],
   "source": [
    "import os\n",
    "import numpy as np\n",
    "import collections"
   ]
  },
  {
   "cell_type": "markdown",
   "metadata": {},
   "source": [
    "## Tool Functions"
   ]
  },
  {
   "cell_type": "markdown",
   "metadata": {},
   "source": [
    "### Label Function\n",
    "\n",
    "Converge TCP attack type to int. "
   ]
  },
  {
   "cell_type": "code",
   "execution_count": null,
   "metadata": {},
   "outputs": [],
   "source": [
    "def label(flag: str) -> int:\n",
    "    return {\n",
    "        '-': 0,\n",
    "        'snmpgetattack': 1,\n",
    "        'warez': 2,\n",
    "        'portsweep': 3,\n",
    "        'nmap': 4,\n",
    "        'warezclient': 5,\n",
    "        'ipsweep': 6,\n",
    "        'dict': 7,\n",
    "        'neptune': 8,\n",
    "        'smurf': 9,\n",
    "        'pod': 10,\n",
    "        'snmpguess': 11,\n",
    "        'teardrop': 12,\n",
    "        'satan': 13,\n",
    "        'httptunnel-e': 14,\n",
    "        'ignore': 15,\n",
    "        'mscan': 16,\n",
    "        'guest': 17,\n",
    "        'rootkit': 18,\n",
    "        'back': 19,\n",
    "        'apache2': 20,\n",
    "        'processtable': 21,\n",
    "        'mailbomb': 22,\n",
    "        'smurfttl': 23,\n",
    "        'saint': 24\n",
    "    }.get(flag)"
   ]
  },
  {
   "cell_type": "code",
   "execution_count": null,
   "metadata": {},
   "outputs": [],
   "source": [
    "def line_split(line: str) -> tuple:\n",
    "    src_ip, dst_ip, port, time, connect_type = line.split('\\t')\n",
    "    return int(src_ip), int(dst_ip), int(port), int(time), int(connect_type)"
   ]
  },
  {
   "cell_type": "markdown",
   "metadata": {},
   "source": [
    "## Parameters"
   ]
  },
  {
   "cell_type": "code",
   "execution_count": null,
   "metadata": {},
   "outputs": [],
   "source": [
    "# Data File Path\n",
    "\n",
    "train_set_path = 'data/train'\n",
    "valid_set_path = 'data/valid_query'\n",
    "test_set_path = 'data/test_query'\n",
    "\n",
    "# Features\n",
    "\n",
    "src_in_degree = collections.OrderedDict()\n",
    "src_out_degree = collections.OrderedDict()\n",
    "dst_in_degree = collections.OrderedDict()\n",
    "dst_out_degree = collections.OrderedDict()\n",
    "\n",
    "port_num = collections.OrderedDict()\n",
    "port_list = collections.OrderedDict()\n",
    "time_len = collections.OrderedDict()\n",
    "connect_num = collections.OrderedDict()\n",
    "\n",
    "# Tool Parameters\n",
    "\n",
    "nodes_origin = []\n",
    "edges_origin = {}\n",
    "\n",
    "node_in_degree = {}\n",
    "node_out_degree = {}\n",
    "\n",
    "edge_src_list = {}\n",
    "edge_dst_list = {}\n",
    "\n",
    "# Count Parameters\n",
    "\n",
    "edge_index = 0"
   ]
  },
  {
   "cell_type": "markdown",
   "metadata": {},
   "source": [
    "## Load Data"
   ]
  },
  {
   "cell_type": "markdown",
   "metadata": {},
   "source": [
    "### Singel File"
   ]
  },
  {
   "cell_type": "code",
   "execution_count": null,
   "metadata": {},
   "outputs": [],
   "source": [
    "path = 'data/train/train_000.txt'\n",
    "data = open(path)\n",
    "\n",
    "for line in data:\n",
    "    src_ip, dst_ip, port, time, connect_type = line_split(line)\n",
    "    \n",
    "    # Repeat Connections\n",
    "    if (src_ip, dst_ip) in edges_origin.keys():\n",
    "        edge_index_temp = edges_origin[(src_ip, dst_ip)]\n",
    "        \n",
    "        # Assign Features\n",
    "        time_len[edge_index_temp] += time\n",
    "        connect_num[edge_index_temp] += 1\n",
    "        if port in port_list[edge_index_temp]:\n",
    "            pass\n",
    "        else:\n",
    "            port_list[edge_index_temp].append(port)\n",
    "    \n",
    "    # New Connections     \n",
    "    else:\n",
    "        # Record Origin Node and Edge\n",
    "        nodes_origin.append(src_ip)\n",
    "        nodes_origin.append(dst_ip)\n",
    "        edges_origin[(src_ip, dst_ip)] = edge_index\n",
    "        \n",
    "        # Update Node Parameters\n",
    "        if src_ip in node_out_degree.keys():\n",
    "            node_out_degree[src_ip] += 1\n",
    "        else:\n",
    "            node_out_degree[src_ip] = 1\n",
    "        if dst_ip in node_in_degree.keys():\n",
    "            node_in_degree[dst_ip] += 1\n",
    "        else:\n",
    "            node_in_degree[dst_ip] = 1\n",
    "        \n",
    "        # Update Edge Parameters\n",
    "        if edge_index in edge_src_list.keys():\n",
    "            edge_src_list[edge_index].append(src_ip)\n",
    "        else:\n",
    "            edge_src_list[edge_index] = [src_ip]\n",
    "        if edge_index in edge_dst_list.keys():\n",
    "            edge_dst_list[edge_index].append(dst_ip)\n",
    "        else:\n",
    "            edge_dst_list[edge_index] = [dst_ip]\n",
    "            \n",
    "        # Assign Features\n",
    "        port_list[edge_index] = [port]\n",
    "        time_len[edge_index] = time\n",
    "        connect_num[edge_index] = 1"
   ]
  },
  {
   "cell_type": "code",
   "execution_count": null,
   "metadata": {},
   "outputs": [],
   "source": [
    "nodes_origin = list(set(nodes_origin))\n",
    "\n",
    "for i in range(len(edge_src_list.keys())):\n",
    "    edge_src_list[i]"
   ]
  },
  {
   "cell_type": "code",
   "execution_count": null,
   "metadata": {},
   "outputs": [],
   "source": []
  },
  {
   "cell_type": "code",
   "execution_count": null,
   "metadata": {},
   "outputs": [],
   "source": []
  },
  {
   "cell_type": "code",
   "execution_count": null,
   "metadata": {},
   "outputs": [],
   "source": []
  },
  {
   "cell_type": "code",
   "execution_count": null,
   "metadata": {},
   "outputs": [],
   "source": []
  },
  {
   "cell_type": "code",
   "execution_count": null,
   "metadata": {},
   "outputs": [],
   "source": []
  }
 ],
 "metadata": {
  "kernelspec": {
   "display_name": "Python 3",
   "language": "python",
   "name": "python3"
  },
  "language_info": {
   "codemirror_mode": {
    "name": "ipython",
    "version": 3
   },
   "file_extension": ".py",
   "mimetype": "text/x-python",
   "name": "python",
   "nbconvert_exporter": "python",
   "pygments_lexer": "ipython3",
   "version": "3.8.6"
  }
 },
 "nbformat": 4,
 "nbformat_minor": 4
}
