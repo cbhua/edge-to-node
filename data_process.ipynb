{
 "cells": [
  {
   "cell_type": "markdown",
   "metadata": {},
   "source": [
    "# Data Process"
   ]
  },
  {
   "cell_type": "code",
   "execution_count": 57,
   "metadata": {},
   "outputs": [],
   "source": [
    "# Import packages\n",
    "import os\n",
    "import numpy as np\n",
    "import collections\n",
    "\n",
    "import torch\n",
    "import torch.nn as nn\n",
    "import torch.nn.functional as F\n",
    "\n",
    "import dgl\n",
    "import dgl.function as fn\n",
    "\n",
    "import networkx as nx"
   ]
  },
  {
   "cell_type": "code",
   "execution_count": 19,
   "metadata": {},
   "outputs": [
    {
     "name": "stdout",
     "output_type": "stream",
     "text": [
      "Source IP\tDestination IP\tPort\tTimestamp\tType\n",
      "3957\t\t15394\t\t13556\t0\t\t-\n",
      "3957\t\t15394\t\t13556\t0\t\t-\n",
      "15394\t\t4800\t\t35567\t308\t\t-\n",
      "15394\t\t4800\t\t35567\t308\t\t-\n",
      "20367\t\t19350\t\t28415\t392\t\t-\n"
     ]
    }
   ],
   "source": [
    "# Read the first lines in tran set\n",
    "i = 0\n",
    "print('Source IP\\tDestination IP\\tPort\\tTimestamp\\tType')\n",
    "train_data = open('./train_set/train_000.txt')\n",
    "for line in train_data:\n",
    "    source_ip, destination_ip, port, timestamp, connection_type = line.split()\n",
    "    print('{}\\t\\t{}\\t\\t{}\\t{}\\t\\t{}'.format(int(source_ip), int(destination_ip), int(port), int(timestamp), connection_type))\n",
    "    i = i + 1\n",
    "    if i >= 5:\n",
    "        break"
   ]
  },
  {
   "cell_type": "code",
   "execution_count": null,
   "metadata": {
    "collapsed": false,
    "jupyter": {
     "outputs_hidden": false
    },
    "pycharm": {
     "name": "#%%\n"
    }
   },
   "outputs": [],
   "source": [
    "# Train Data Load\n",
    "\n",
    "train_data_files = os.listdir('train_set/')\n",
    "\n",
    "nodes = []\n",
    "edges = []\n",
    "\n",
    "file_load_flag = 0\n",
    "for file in train_data_files:\n",
    "    file_load_flag += 1\n",
    "    print('Loading File {}/{}...'.format(file_load_flag, len(train_data_files)), end='\\r')\n",
    "    \n",
    "    file_path = 'train_set/' + file\n",
    "    train_data = open(file_path)\n",
    "    for line in train_data:\n",
    "        source_ip, destination_ip, port, timestamp, connection_type = line.split()\n",
    "        nodes.append(int(source_ip))\n",
    "        nodes.append(int(destination_ip))\n",
    "        edges.append((int(source_ip), int(destination_ip), int(port), int(timestamp), connection_type))\n",
    "\n",
    "nodes = list(set(nodes))"
   ]
  },
  {
   "cell_type": "markdown",
   "metadata": {},
   "source": [
    "## Label Mark Function"
   ]
  },
  {
   "cell_type": "code",
   "execution_count": 12,
   "metadata": {},
   "outputs": [],
   "source": [
    "def label(flag: str) -> int:\n",
    "    return {\n",
    "        '-': 0,\n",
    "        'snmpgetattack': 1,\n",
    "        'warez': 2,\n",
    "        'portsweep': 3,\n",
    "        'nmap': 4,\n",
    "        'warezclient': 5,\n",
    "        'ipsweep': 6,\n",
    "        'dict': 7,\n",
    "        'neptune': 8,\n",
    "        'smurf': 9,\n",
    "        'pod': 10,\n",
    "        'snmpguess': 11,\n",
    "        'teardrop': 12,\n",
    "        'satan': 13,\n",
    "        'httptunnel-e': 14,\n",
    "        'ignore': 15,\n",
    "        'mscan': 16,\n",
    "        'guest': 17,\n",
    "        'rootkit': 18,\n",
    "        'back': 19,\n",
    "        'apache2': 20,\n",
    "        'processtable': 21,\n",
    "        'mailbomb': 22,\n",
    "        'smurfttl': 23,\n",
    "        'saint': 24\n",
    "    }.get(flag)"
   ]
  },
  {
   "cell_type": "markdown",
   "metadata": {},
   "source": [
    "# Basic DGL Model"
   ]
  },
  {
   "cell_type": "code",
   "execution_count": null,
   "metadata": {},
   "outputs": [],
   "source": [
    "# Load Data\n",
    "\n",
    "path = 'data/train/train_000.txt'\n",
    "src = []\n",
    "dst = []\n",
    "ports = []\n",
    "times = []\n",
    "labels = []\n",
    "\n",
    "data = open(path)\n",
    "for line in data:\n",
    "    src_ip, dst_ip, port, timestamp, connection_type = line.split()\n",
    "    src.append(int(src_ip))\n",
    "    dst.append(int(dst_ip))\n",
    "    ports.append(int(port))\n",
    "    times.append(int(timestamp))\n",
    "    labels.append(label(connection_type))"
   ]
  },
  {
   "cell_type": "code",
   "execution_count": null,
   "metadata": {},
   "outputs": [],
   "source": [
    "# Create DGL Graph\n",
    "\n",
    "graph = dgl.graph((src, dst))\n",
    "graph.edata['port'] = ports\n",
    "graph.edata['time'] = times\n",
    "graph.edata['label'] = labels"
   ]
  },
  {
   "cell_type": "code",
   "execution_count": null,
   "metadata": {},
   "outputs": [],
   "source": [
    "# Predictor Layer\n",
    "\n",
    "class DotProductPredictor(nn.Module):\n",
    "    def forward(self, graph, h):\n",
    "        with graph.local_scope():\n",
    "            graph.ndata['h'] = h\n",
    "            graph.apply_edges(fn.u_dot_v('h', 'h', 'score'))\n",
    "            return graph.edata['score']"
   ]
  },
  {
   "cell_type": "code",
   "execution_count": null,
   "metadata": {},
   "outputs": [],
   "source": [
    "# SAGE Layer\n",
    "\n",
    "class SAGE(nn.Module):\n",
    "    def __init__(self, in_dim, hidden_dim, out_dim):\n",
    "        super().__init__()\n",
    "        self.conv1 = dgl.nn.SAGEConv(in_dim, hidden_dim, aggregator_type='mean')\n",
    "        self.conv2 = dgl.nn.SAGEConv(hidden_dim, out_dim, aggregator_type='mean')\n",
    "        \n",
    "    def forward(self, graph, inputs):\n",
    "        h = self.conv1(graph, inputs)\n",
    "        h = F.relu(h)\n",
    "        h = self.conv2(graph, h)\n",
    "        return h"
   ]
  },
  {
   "cell_type": "code",
   "execution_count": null,
   "metadata": {},
   "outputs": [],
   "source": [
    "# Predictor Model\n",
    "\n",
    "class SAGEModel(nn.Module):\n",
    "    def __init__(self, in_dim, hidden_dim, out_dim):\n",
    "        super().__init__()\n",
    "        self.sage = SAGE(in_dim, hidden_dim, out_dim)\n",
    "        self.pred = DotProductPredictor()\n",
    "        \n",
    "    def forward(self, graph, x):\n",
    "        h = self.sage(graph, x)\n",
    "        return self.pred(graph, h)"
   ]
  },
  {
   "cell_type": "code",
   "execution_count": null,
   "metadata": {},
   "outputs": [],
   "source": [
    "# Train Loop\n",
    "\n",
    "model = SAGEModel(2, 5, 1)\n",
    "optim = torch.optim.Adam(model.parameters())\n",
    "\n",
    "for epoch in range(5):\n",
    "    output = model(graph, node_features)\n",
    "    loss = ((output - labels) ** 2).mean()\n",
    "    \n",
    "    optim.zero_grad()\n",
    "    loss.backward()\n",
    "    optim.step()\n",
    "    \n",
    "    print(loss.item())"
   ]
  },
  {
   "cell_type": "markdown",
   "metadata": {},
   "source": [
    "# Graph Dataset"
   ]
  },
  {
   "cell_type": "code",
   "execution_count": 43,
   "metadata": {},
   "outputs": [
    {
     "name": "stdout",
     "output_type": "stream",
     "text": [
      "841\n",
      "841\n",
      "70\n",
      "113\n"
     ]
    },
    {
     "data": {
      "image/png": "[encoded data removed]",
      "text/plain": [
       "<Figure size 432x288 with 1 Axes>"
      ]
     },
     "metadata": {},
     "output_type": "display_data"
    }
   ],
   "source": [
    "path = 'data/train/train_000.txt'\n",
    "nodes = []\n",
    "edges = []\n",
    "\n",
    "data = open(path)\n",
    "count = 0\n",
    "for line in data:\n",
    "    count += 1\n",
    "    src_ip, dst_ip, port, timestamp, connection_type = line.split()\n",
    "    nodes.append(int(src_ip))\n",
    "    nodes.append(int(dst_ip))\n",
    "    edges.append((int(src_ip), int(dst_ip)))\n",
    "    \n",
    "nodes = list(set(nodes))\n",
    "\n",
    "G = nx.Graph()\n",
    "\n",
    "print(len(edges))\n",
    "\n",
    "G.add_nodes_from(nodes)\n",
    "G.add_edges_from(edges)\n",
    "\n",
    "print(count)\n",
    "print(G.number_of_nodes())\n",
    "print(G.number_of_edges())\n",
    "\n",
    "options = {\"node_size\": 20}\n",
    "nx.draw(G, **options)"
   ]
  },
  {
   "cell_type": "markdown",
   "metadata": {},
   "source": [
    "# Test Edge Transfer Node Classification"
   ]
  },
  {
   "cell_type": "code",
   "execution_count": 44,
   "metadata": {},
   "outputs": [
    {
     "name": "stdout",
     "output_type": "stream",
     "text": [
      "70\n",
      "(841, 5)\n",
      "57\n",
      "27\n",
      "14\n",
      "14\n"
     ]
    }
   ],
   "source": [
    "# Graph Generate\n",
    "\n",
    "path = 'data/train/train_000.txt'\n",
    "nodes = []\n",
    "nodes_in = {}\n",
    "nodes_out = {}\n",
    "edges = np.empty([1, 5])\n",
    "\n",
    "# Feature List\n",
    "src_ip_list = {}\n",
    "dst_ip_list = {}\n",
    "port_list = {}\n",
    "time_list = {}\n",
    "label_list = {}\n",
    "\n",
    "data = open(path)\n",
    "num_line = 0\n",
    "for line in data:\n",
    "    src_ip, dst_ip, port, timestamp, connection_type = line.split()\n",
    "    \n",
    "    if (int(src_ip), int(dst_ip)) in edges:\n",
    "        pass\n",
    "    \n",
    "    nodes.append(int(src_ip))\n",
    "    nodes.append(int(dst_ip))\n",
    "    edges = np.vstack((edges, [int(src_ip), int(dst_ip), int(port), int(timestamp), label(connection_type)]))\n",
    "    \n",
    "    if int(dst_ip) in nodes_in.keys():\n",
    "        nodes_in[dst_ip].append(num_line)\n",
    "    else:\n",
    "        nodes_in[dst_ip] = [num_line]\n",
    "        \n",
    "    if int(src_ip) in nodes_out.keys():\n",
    "        nodes_out[src_ip].append(num_line)\n",
    "    else:\n",
    "        nodes_out[src_ip] = [num_line]\n",
    "        \n",
    "    num_line += 1\n",
    "        \n",
    "nodes = list(set(nodes))\n",
    "edges = np.delete(edges, obj=0, axis=0)\n",
    "edge_trans_src = []\n",
    "edge_trans_dst = []\n",
    "\n",
    "print(len(nodes))\n",
    "print(edges.shape)\n",
    "\n",
    "print(len(nodes_in.keys()))\n",
    "print(len(nodes_out.keys()))\n",
    "\n",
    "nodes_cal = list(set(nodes_in.keys()).intersection(set(nodes_out.keys())))\n",
    "\n",
    "for node in nodes_cal:\n",
    "    for src_edge in nodes_in[node]:\n",
    "        for dst_edge in nodes_out[node]:\n",
    "            edge_trans_src.append(src_edge)\n",
    "            edge_trans_dst.append(dst_edge)\n",
    "            \n",
    "print(len(edge_trans_src))\n",
    "print(len(edge_trans_dst))"
   ]
  },
  {
   "cell_type": "code",
   "execution_count": 88,
   "metadata": {},
   "outputs": [
    {
     "name": "stdout",
     "output_type": "stream",
     "text": [
      "[85, 81, 57, 90, 99, 31, 48, 109, 43, 105, 82, 106, 63, 0]\n"
     ]
    }
   ],
   "source": [
    "# Graph Generate\n",
    "\n",
    "path = 'data/train/train_000.txt'\n",
    "nodes = []\n",
    "nodes_in = {}\n",
    "nodes_out = {}\n",
    "\n",
    "# Feature List\n",
    "src_list = collections.OrderedDict()\n",
    "dst_list = collections.OrderedDict()\n",
    "ip_list_trans = collections.OrderedDict()\n",
    "port_list = collections.OrderedDict()\n",
    "time_list = collections.OrderedDict()\n",
    "label_list = collections.OrderedDict()\n",
    "\n",
    "edge_num = 0\n",
    "\n",
    "data = open(path)\n",
    "for line in data:\n",
    "    src_ip, dst_ip, port, time, connection_type = line.split()\n",
    "    \n",
    "    if (int(src_ip), int(dst_ip)) in ip_list_trans.keys():\n",
    "        edge_num_temp = ip_list_trans[(int(src_ip), int(dst_ip))]\n",
    "        port_list[edge_num_temp].append(int(port))\n",
    "        time_list[edge_num_temp].append(int(time))\n",
    "        label_list[edge_num_temp].append(label(connection_type))\n",
    "        continue\n",
    "    \n",
    "    nodes.append(int(src_ip))\n",
    "    nodes.append(int(dst_ip))\n",
    "    \n",
    "    ip_list_trans[(int(src_ip), int(dst_ip))] = edge_num\n",
    "    src_list[edge_num] = int(src_ip)\n",
    "    dst_list[edge_num] = int(dst_ip)\n",
    "    port_list[edge_num] = [int(port)]\n",
    "    time_list[edge_num] = [int(time)]\n",
    "    label_list[edge_num] = [label(connection_type)]\n",
    "    \n",
    "    if int(dst_ip) in nodes_in.keys():\n",
    "        nodes_in[dst_ip].append(edge_num)\n",
    "    else:\n",
    "        nodes_in[dst_ip] = [edge_num]\n",
    "        \n",
    "    if int(src_ip) in nodes_out.keys():\n",
    "        nodes_out[src_ip].append(edge_num)\n",
    "    else:\n",
    "        nodes_out[src_ip] = [edge_num]\n",
    "    edge_num += 1\n",
    "        \n",
    "nodes = list(set(nodes))\n",
    "edge_trans_src = []\n",
    "edge_trans_dst = []\n",
    "\n",
    "nodes_cal = list(set(nodes_in.keys()).intersection(set(nodes_out.keys())))\n",
    "\n",
    "for node in nodes_cal:\n",
    "    for src_edge in nodes_in[node]:\n",
    "        for dst_edge in nodes_out[node]:\n",
    "            edge_trans_src.append(src_edge)\n",
    "            edge_trans_dst.append(dst_edge)\n",
    "            \n",
    "            \n"
   ]
  },
  {
   "cell_type": "code",
   "execution_count": 120,
   "metadata": {},
   "outputs": [],
   "source": [
    "# Graph Generate\n",
    "\n",
    "path = 'data/train/train_000.txt'\n",
    "nodes = []\n",
    "nodes_in = {}\n",
    "nodes_out = {}\n",
    "\n",
    "# Feature List\n",
    "src_list = collections.OrderedDict()\n",
    "dst_list = collections.OrderedDict()\n",
    "ip_list_trans = collections.OrderedDict()\n",
    "num_edge_list = collections.OrderedDict()\n",
    "port_list = []\n",
    "time_list = []\n",
    "label_list = []\n",
    "\n",
    "# ADD UP EDGE\n",
    "edges = np.empty([1, 4])\n",
    "edge_num = 0\n",
    "\n",
    "data = open(path)\n",
    "for line in data:\n",
    "    src_ip, dst_ip, port, time, connection_type = line.split()\n",
    "    \n",
    "    if (int(src_ip), int(dst_ip)) in ip_list_trans.keys():\n",
    "        edge_num_temp = ip_list_trans[(int(src_ip), int(dst_ip))]\n",
    "        num_edge_list[edge_num_temp] += 1\n",
    "        port_list[edge_num_temp] += int(port)\n",
    "        time_list[edge_num_temp] += int(time)\n",
    "        label_list[edge_num_temp] += label(connection_type)\n",
    "        \n",
    "        # ADD UP EDGE\n",
    "        edges = np.vstack((edges, [int(src_ip), int(dst_ip), int(port), int(time)]))\n",
    "        \n",
    "        continue\n",
    "    \n",
    "    nodes.append(int(src_ip))\n",
    "    nodes.append(int(dst_ip))\n",
    "    \n",
    "    ip_list_trans[(int(src_ip), int(dst_ip))] = edge_num\n",
    "    src_list[edge_num] = int(src_ip)\n",
    "    dst_list[edge_num] = int(dst_ip)\n",
    "    num_edge_list[edge_num] = 1\n",
    "    port_list.append(int(port))\n",
    "    time_list.append(int(time))\n",
    "    label_list.append(label(connection_type))\n",
    "    \n",
    "    # ADD UP EDGE\n",
    "    edges = np.vstack((edges, [int(src_ip), int(dst_ip), int(port), int(time)]))\n",
    "    \n",
    "    if int(dst_ip) in nodes_in.keys():\n",
    "        nodes_in[dst_ip].append(edge_num)\n",
    "    else:\n",
    "        nodes_in[dst_ip] = [edge_num]\n",
    "        \n",
    "    if int(src_ip) in nodes_out.keys():\n",
    "        nodes_out[src_ip].append(edge_num)\n",
    "    else:\n",
    "        nodes_out[src_ip] = [edge_num]\n",
    "    edge_num += 1\n",
    "        \n",
    "nodes = list(set(nodes))\n",
    "edge_trans_src = []\n",
    "edge_trans_dst = []\n",
    "\n",
    "# ADD UP EDGE\n",
    "edges = np.delete(edges, obj=0, axis=0)\n",
    "\n",
    "nodes_cal = list(set(nodes_in.keys()).intersection(set(nodes_out.keys())))\n",
    "\n",
    "for node in nodes_cal:\n",
    "    for src_edge in nodes_in[node]:\n",
    "        for dst_edge in nodes_out[node]:\n",
    "            edge_trans_src.append(src_edge)\n",
    "            edge_trans_dst.append(dst_edge)"
   ]
  },
  {
   "cell_type": "code",
   "execution_count": 65,
   "metadata": {},
   "outputs": [
    {
     "name": "stdout",
     "output_type": "stream",
     "text": [
      "70\n",
      "113\n",
      "113\n",
      "113\n",
      "113\n",
      "57\n",
      "27\n",
      "Abaaba\n",
      "14\n",
      "14\n",
      "14\n"
     ]
    }
   ],
   "source": [
    "print(len(nodes))\n",
    "\n",
    "print(len(ip_list.keys()))\n",
    "print(len(port_list.keys()))\n",
    "print(len(time_list.keys()))\n",
    "print(len(label_list.keys()))\n",
    "\n",
    "print(len(nodes_in.keys()))\n",
    "print(len(nodes_out.keys()))\n",
    "\n",
    "print('Abaaba')\n",
    "print(len(nodes_cal))\n",
    "\n",
    "print(len(edge_trans_src))\n",
    "print(len(edge_trans_dst))"
   ]
  },
  {
   "cell_type": "code",
   "execution_count": null,
   "metadata": {},
   "outputs": [],
   "source": [
    "print(len(ip_list.keys()))\n",
    "print(len(src_list.values()))\n",
    "print(edge_trans_src)\n",
    "print(edge_trans_dst)\n",
    "print(list(port_list.values()))\n",
    "print(list(time_list.values()))\n",
    "print(list(label_list.values()))"
   ]
  },
  {
   "cell_type": "code",
   "execution_count": 103,
   "metadata": {},
   "outputs": [
    {
     "name": "stdout",
     "output_type": "stream",
     "text": [
      "113\n",
      "113\n",
      "[313.6666666666667, 308.0, 777.6666666666666, 393.0, 458.5, 453.0, 461.0, 461.0, 461.0, 771.6666666666666, 1030.0, 515.0, 1005.5, 640.0, 648.0, 658.0, 658.0, 659.0, 659.0, 660.0, 763.0, 699.8571428571429, 707.0, 711.0, 899.6666666666666, 714.0, 714.0, 714.0, 788.5, 738.0, 874.5, 983.8762886597938, 798.4166666666666, 792.0, 1172.0, 871.0, 880.0, 881.0, 892.0, 1464.0, 1208.0, 977.0, 1001.5, 1145.2142857142858, 1064.0, 1076.0, 1336.3813559322034, 1117.0, 1162.911111111111, 1165.0, 1177.25, 1177.3636363636363, 1224.0, 1230.0, 1230.0, 1233.0, 1233.0, 1234.0, 1234.0, 1235.0, 1236.0, 1238.0, 1240.0, 1264.0, 1242.0, 1243.0, 1243.0, 1244.7619047619048, 1245.0, 1247.0, 1248.0, 1251.0, 1437.0625, 1357.0, 1432.4545454545455, 1393.0, 1417.0, 1480.0, 1437.0, 1529.5, 1629.4596774193549, 1473.0, 1501.7272727272727, 1563.6, 1505.0, 1548.0, 1549.0, 1550.0, 1550.0, 1550.0, 1551.0, 1552.0, 1553.0, 1554.0, 1555.0, 1556.0, 1556.0, 1575.4285714285713, 1575.3333333333333, 1575.0, 1601.2631578947369, 1614.0, 1634.9375, 1684.5428571428572, 1683.0, 1688.0, 1688.0, 1748.4285714285713, 1745.0, 1752.1666666666667, 1781.0, 1787.8461538461538, 1788.0]\n"
     ]
    }
   ],
   "source": [
    "# time_list = np.array(list(time_list.values()))\n",
    "print(len(time_list))\n",
    "print(len(num_edge_list))\n",
    "for i in range(len(time_list)):\n",
    "    time_list[i] = time_list[i] / num_edge_list[i]\n",
    "# print(time_list)"
   ]
  },
  {
   "cell_type": "code",
   "execution_count": 109,
   "metadata": {},
   "outputs": [],
   "source": [
    "# print(port_list)\n",
    "for i in range(len(port_list)):\n",
    "    port_list[i] = port_list[i] / num_edge_list[i]"
   ]
  },
  {
   "cell_type": "code",
   "execution_count": 110,
   "metadata": {},
   "outputs": [
    {
     "name": "stdout",
     "output_type": "stream",
     "text": [
      "[21396.0, 35567.0, 30135.666666666668, 28415.0, 23961.5, 19299.0, 19299.0, 19299.0, 19299.0, 17001.666666666668, 26542.5, 19508.0, 7213.0, 26412.0, 26412.0, 26412.0, 26412.0, 26412.0, 26412.0, 26412.0, 38079.5, 34355.0, 34355.0, 34355.0, 31137.666666666668, 34355.0, 34355.0, 34355.0, 42124.5, 42445.0, 35987.0, 21470.9793814433, 41837.333333333336, 41804.0, 37690.5, 10514.0, 10514.0, 10514.0, 10514.0, 15773.2, 35326.5, 28568.347826086956, 29529.0, 6115.0, 6972.0, 6972.0, 27830.398305084746, 12924.0, 16511.0, 22419.0, 22419.0, 22419.0, 5258.0, 5258.0, 5258.0, 5258.0, 5258.0, 5258.0, 5258.0, 5258.0, 5258.0, 5258.0, 5258.0, 15724.0, 5258.0, 5258.0, 5258.0, 5258.0, 5258.0, 5258.0, 5258.0, 5258.0, 30584.75, 33401.0, 19097.363636363636, 12407.0, 12407.0, 22992.0, 12407.0, 24996.5, 23883.540322580644, 28034.0, 28468.18181818182, 27755.4, 28034.0, 33577.0, 33577.0, 33577.0, 33577.0, 33577.0, 33577.0, 33577.0, 33577.0, 33577.0, 33577.0, 33577.0, 33577.0, 37586.0, 37586.0, 37586.0, 37586.0, 37586.0, 33535.6875, 28353.2, 24357.0, 21098.0, 21098.0, 21031.333333333332, 21098.0, 20898.0, 20898.0, 20898.0, 20898.0]\n"
     ]
    }
   ],
   "source": [
    "print(port_list)"
   ]
  },
  {
   "cell_type": "code",
   "execution_count": 111,
   "metadata": {},
   "outputs": [
    {
     "name": "stdout",
     "output_type": "stream",
     "text": [
      "[0.0, 0.0, 0.0, 0.0, 0.0, 0.0, 0.0, 0.0, 0.0, 0.0, 0.0, 0.0, 0.0, 0.0, 0.0, 0.0, 0.0, 0.0, 0.0, 0.0, 0.0, 0.0, 0.0, 0.0, 0.0, 0.0, 0.0, 0.0, 0.0, 0.0, 0.0, 0.0, 0.0, 0.0, 0.0, 0.0, 0.0, 0.0, 0.0, 0.0, 0.0, 0.0, 0.0, 0.0, 0.0, 0.0, 0.0, 0.0, 0.0, 0.0, 0.0, 0.0, 0.0, 0.0, 0.0, 0.0, 0.0, 0.0, 0.0, 0.0, 0.0, 0.0, 0.0, 0.0, 0.0, 0.0, 0.0, 0.0, 0.0, 0.0, 0.0, 0.0, 0.0, 0.0, 0.0, 0.0, 0.0, 0.0, 0.0, 0.0, 0.0, 0.0, 0.0, 0.0, 0.0, 0.0, 0.0, 0.0, 0.0, 0.0, 0.0, 0.0, 0.0, 0.0, 0.0, 0.0, 0.0, 0.0, 0.0, 0.0, 0.0, 0.0, 0.0, 0.0, 0.0, 0.0, 0.0, 0.0, 0.0, 0.0, 0.0, 0.0, 0.0]\n"
     ]
    }
   ],
   "source": [
    "for i in range(len(label_list)):\n",
    "    label_list[i] = label_list[i] / num_edge_list[i]\n",
    "print(label_list)"
   ]
  },
  {
   "cell_type": "code",
   "execution_count": 112,
   "metadata": {},
   "outputs": [
    {
     "name": "stdout",
     "output_type": "stream",
     "text": [
      "113\n",
      "14\n"
     ]
    },
    {
     "name": "stderr",
     "output_type": "stream",
     "text": [
      "/Library/Frameworks/Python.framework/Versions/3.8/lib/python3.8/site-packages/dgl/base.py:45: DGLWarning: Recommend creating graphs by `dgl.graph(data)` instead of `dgl.DGLGraph(data)`.\n",
      "  return warnings.warn(message, category=category, stacklevel=1)\n"
     ]
    },
    {
     "ename": "AttributeError",
     "evalue": "'list' object has no attribute 'values'",
     "output_type": "error",
     "traceback": [
      "\u001b[0;31m---------------------------------------------------------------------------\u001b[0m",
      "\u001b[0;31mAttributeError\u001b[0m                            Traceback (most recent call last)",
      "\u001b[0;32m<ipython-input-112-f1ae86da3e4e>\u001b[0m in \u001b[0;36m<module>\u001b[0;34m\u001b[0m\n\u001b[1;32m      7\u001b[0m \u001b[0mgraph\u001b[0m\u001b[0;34m.\u001b[0m\u001b[0mndata\u001b[0m\u001b[0;34m[\u001b[0m\u001b[0;34m'src_ip'\u001b[0m\u001b[0;34m]\u001b[0m \u001b[0;34m=\u001b[0m \u001b[0mtorch\u001b[0m\u001b[0;34m.\u001b[0m\u001b[0mtensor\u001b[0m\u001b[0;34m(\u001b[0m\u001b[0mlist\u001b[0m\u001b[0;34m(\u001b[0m\u001b[0msrc_list\u001b[0m\u001b[0;34m.\u001b[0m\u001b[0mvalues\u001b[0m\u001b[0;34m(\u001b[0m\u001b[0;34m)\u001b[0m\u001b[0;34m)\u001b[0m\u001b[0;34m)\u001b[0m\u001b[0;34m\u001b[0m\u001b[0;34m\u001b[0m\u001b[0m\n\u001b[1;32m      8\u001b[0m \u001b[0mgraph\u001b[0m\u001b[0;34m.\u001b[0m\u001b[0mndata\u001b[0m\u001b[0;34m[\u001b[0m\u001b[0;34m'dst_ip'\u001b[0m\u001b[0;34m]\u001b[0m \u001b[0;34m=\u001b[0m \u001b[0mtorch\u001b[0m\u001b[0;34m.\u001b[0m\u001b[0mtensor\u001b[0m\u001b[0;34m(\u001b[0m\u001b[0mlist\u001b[0m\u001b[0;34m(\u001b[0m\u001b[0mdst_list\u001b[0m\u001b[0;34m.\u001b[0m\u001b[0mvalues\u001b[0m\u001b[0;34m(\u001b[0m\u001b[0;34m)\u001b[0m\u001b[0;34m)\u001b[0m\u001b[0;34m)\u001b[0m\u001b[0;34m\u001b[0m\u001b[0;34m\u001b[0m\u001b[0m\n\u001b[0;32m----> 9\u001b[0;31m \u001b[0mgraph\u001b[0m\u001b[0;34m.\u001b[0m\u001b[0mndata\u001b[0m\u001b[0;34m[\u001b[0m\u001b[0;34m'port'\u001b[0m\u001b[0;34m]\u001b[0m \u001b[0;34m=\u001b[0m \u001b[0mtorch\u001b[0m\u001b[0;34m.\u001b[0m\u001b[0mtensor\u001b[0m\u001b[0;34m(\u001b[0m\u001b[0mlist\u001b[0m\u001b[0;34m(\u001b[0m\u001b[0mport_list\u001b[0m\u001b[0;34m.\u001b[0m\u001b[0mvalues\u001b[0m\u001b[0;34m(\u001b[0m\u001b[0;34m)\u001b[0m\u001b[0;34m)\u001b[0m\u001b[0;34m)\u001b[0m\u001b[0;34m\u001b[0m\u001b[0;34m\u001b[0m\u001b[0m\n\u001b[0m\u001b[1;32m     10\u001b[0m \u001b[0mgraph\u001b[0m\u001b[0;34m.\u001b[0m\u001b[0mndata\u001b[0m\u001b[0;34m[\u001b[0m\u001b[0;34m'time'\u001b[0m\u001b[0;34m]\u001b[0m \u001b[0;34m=\u001b[0m \u001b[0mtorch\u001b[0m\u001b[0;34m.\u001b[0m\u001b[0mtensor\u001b[0m\u001b[0;34m(\u001b[0m\u001b[0mlist\u001b[0m\u001b[0;34m(\u001b[0m\u001b[0mtime_list\u001b[0m\u001b[0;34m.\u001b[0m\u001b[0mvalues\u001b[0m\u001b[0;34m(\u001b[0m\u001b[0;34m)\u001b[0m\u001b[0;34m)\u001b[0m\u001b[0;34m)\u001b[0m\u001b[0;34m\u001b[0m\u001b[0;34m\u001b[0m\u001b[0m\n\u001b[1;32m     11\u001b[0m \u001b[0mgraph\u001b[0m\u001b[0;34m.\u001b[0m\u001b[0mndata\u001b[0m\u001b[0;34m[\u001b[0m\u001b[0;34m'label'\u001b[0m\u001b[0;34m]\u001b[0m \u001b[0;34m=\u001b[0m \u001b[0mtorch\u001b[0m\u001b[0;34m.\u001b[0m\u001b[0mtensor\u001b[0m\u001b[0;34m(\u001b[0m\u001b[0mlist\u001b[0m\u001b[0;34m(\u001b[0m\u001b[0mlabel_list\u001b[0m\u001b[0;34m.\u001b[0m\u001b[0mvalues\u001b[0m\u001b[0;34m(\u001b[0m\u001b[0;34m)\u001b[0m\u001b[0;34m)\u001b[0m\u001b[0;34m)\u001b[0m\u001b[0;34m\u001b[0m\u001b[0;34m\u001b[0m\u001b[0m\n",
      "\u001b[0;31mAttributeError\u001b[0m: 'list' object has no attribute 'values'"
     ]
    }
   ],
   "source": [
    "graph = dgl.DGLGraph()\n",
    "graph.add_nodes(len(ip_list.keys()))\n",
    "graph.add_edges(edge_trans_src, edge_trans_dst)\n",
    "print(graph.number_of_nodes())\n",
    "print(graph.number_of_edges())\n",
    "\n",
    "graph.ndata['src_ip'] = torch.tensor(list(src_list.values()))\n",
    "graph.ndata['dst_ip'] = torch.tensor(list(dst_list.values()))\n",
    "graph.ndata['port'] = torch.tensor(list(port_list.values()))\n",
    "graph.ndata['time'] = torch.tensor(list(time_list.values()))\n",
    "graph.ndata['label'] = torch.tensor(list(label_list.values()))\n",
    "\n",
    "\n",
    "# graph.ndata['src_ip'] = torch.tensor(edges[:, 0])\n",
    "# graph.ndata['dst_ip'] = torch.tensor(edges[:, 1])\n",
    "# graph.ndata['port'] = torch.tensor(edges[:, 2])\n",
    "# graph.ndata['time'] = torch.tensor(edges[:, 3])\n",
    "# graph.ndata['label'] = torch.tensor(edges[:, 4])"
   ]
  },
  {
   "cell_type": "code",
   "execution_count": 113,
   "metadata": {},
   "outputs": [
    {
     "name": "stdout",
     "output_type": "stream",
     "text": [
      "113\n",
      "14\n"
     ]
    }
   ],
   "source": [
    "graph = dgl.DGLGraph()\n",
    "graph.add_nodes(len(ip_list.keys()))\n",
    "graph.add_edges(edge_trans_src, edge_trans_dst)\n",
    "print(graph.number_of_nodes())\n",
    "print(graph.number_of_edges())\n",
    "\n",
    "graph.ndata['src_ip'] = torch.tensor(list(src_list.values()))\n",
    "graph.ndata['dst_ip'] = torch.tensor(list(dst_list.values()))\n",
    "graph.ndata['port'] = torch.tensor(port_list)\n",
    "graph.ndata['time'] = torch.tensor(time_list)\n",
    "graph.ndata['label'] = torch.tensor(label_list)\n",
    "\n",
    "\n",
    "# graph.ndata['src_ip'] = torch.tensor(edges[:, 0])\n",
    "# graph.ndata['dst_ip'] = torch.tensor(edges[:, 1])\n",
    "# graph.ndata['port'] = torch.tensor(edges[:, 2])\n",
    "# graph.ndata['time'] = torch.tensor(edges[:, 3])\n",
    "# graph.ndata['label'] = torch.tensor(edges[:, 4])"
   ]
  },
  {
   "cell_type": "code",
   "execution_count": 116,
   "metadata": {},
   "outputs": [
    {
     "name": "stdout",
     "output_type": "stream",
     "text": [
      "113\n",
      "14\n"
     ]
    }
   ],
   "source": [
    "print(graph.number_of_nodes())\n",
    "print(graph.number_of_edges())"
   ]
  },
  {
   "cell_type": "code",
   "execution_count": 54,
   "metadata": {},
   "outputs": [
    {
     "data": {
      "image/png": "[encoded data removed]",
      "text/plain": [
       "<Figure size 432x288 with 1 Axes>"
      ]
     },
     "metadata": {},
     "output_type": "display_data"
    }
   ],
   "source": [
    "options = {\"node_size\": 10}\n",
    "nx.draw(graph.to_networkx(), with_labels=False, **options)"
   ]
  },
  {
   "cell_type": "markdown",
   "metadata": {},
   "source": [
    "## Fixed Data Load\n",
    "\n",
    "For edge's features"
   ]
  },
  {
   "cell_type": "code",
   "execution_count": null,
   "metadata": {},
   "outputs": [],
   "source": [
    "# Graph Generate\n",
    "\n",
    "path = 'data/train/train_000.txt'\n",
    "nodes = []\n",
    "\n",
    "# Used to Create Graph\n",
    "nodes_in = {}\n",
    "nodes_out = {}\n",
    "\n",
    "in_nodes_ip = {}\n",
    "out_nodes_ip = {}\n",
    "\n",
    "nodes_in_degree = {}\n",
    "nodes_out_degree = {}\n",
    "\n",
    "# Feature List\n",
    "src_list = collections.OrderedDict()\n",
    "dst_list = collections.OrderedDict()\n",
    "ip_list_trans = collections.OrderedDict()\n",
    "num_edge_list = collections.OrderedDict()\n",
    "port_list = collections.OrderedDict()\n",
    "time_list = []\n",
    "label_list = []\n",
    "\n",
    "edge_num = 0\n",
    "\n",
    "data = open(path)\n",
    "for line in data:\n",
    "    src_ip, dst_ip, port, time, connection_type = line.split()\n",
    "    \n",
    "    if (int(src_ip), int(dst_ip)) in ip_list_trans.keys():\n",
    "        edge_num_temp = ip_list_trans[(int(src_ip), int(dst_ip))]\n",
    "        \n",
    "        in_nodes_ip[edge_num_temp].append(int(src_ip))\n",
    "        out_nodes_ip[edge_num_temp].append(int(dst_ip))\n",
    "        \n",
    "        nodes_in_degree[int(dst_ip)] += 1\n",
    "        nodes_out_degree[int(src_ip)] += 1\n",
    "        \n",
    "        num_edge_list[edge_num_temp] += 1\n",
    "        time_list[edge_num_temp] += int(time)\n",
    "        label_list[edge_num_temp] += label(connection_type)\n",
    "        \n",
    "        if int(port) in port_list[edge_num_temp]:\n",
    "            continue\n",
    "        else:\n",
    "            port_list[edge_num_temp].append(int(port))\n",
    "        \n",
    "        continue\n",
    "    \n",
    "    nodes.append(int(src_ip))\n",
    "    nodes.append(int(dst_ip))\n",
    "    \n",
    "    if int(dst_ip) in nodes_in_degree.keys():\n",
    "        nodes_in_degree[int(dst_ip)] += 1\n",
    "    else:\n",
    "        nodes_in_degree[int(dst_ip)] = 1\n",
    "    if int(src_ip) in nodes_out_degree.keys():\n",
    "        nodes_out_degree[int(src_ip)] += 1\n",
    "    else:\n",
    "        nodes_out_degree[int(src_ip)] = 1\n",
    "    \n",
    "    in_nodes_ip[edge_num] = [int(src_ip)]\n",
    "    out_nodes_ip[edge_num] = [int(dst_ip)]\n",
    "    \n",
    "    ip_list_trans[(int(src_ip), int(dst_ip))] = edge_num\n",
    "    num_edge_list[edge_num] = 1\n",
    "    port_list[edge_num] = [int(port)]\n",
    "    time_list.append(int(time))\n",
    "    label_list.append(label(connection_type))\n",
    "    \n",
    "    \n",
    "    if int(dst_ip) in nodes_in.keys():\n",
    "        nodes_in[dst_ip].append(edge_num)\n",
    "    else:\n",
    "        nodes_in[dst_ip] = [edge_num]\n",
    "        \n",
    "    if int(src_ip) in nodes_out.keys():\n",
    "        nodes_out[src_ip].append(edge_num)\n",
    "    else:\n",
    "        nodes_out[src_ip] = [edge_num]\n",
    "    edge_num += 1\n",
    "        \n",
    "nodes = list(set(nodes))\n",
    "edge_trans_src = []\n",
    "edge_trans_dst = []\n",
    "\n",
    "nodes_cal = list(set(nodes_in.keys()).intersection(set(nodes_out.keys())))\n",
    "\n",
    "for node in nodes_cal:\n",
    "    for src_edge in nodes_in[node]:\n",
    "        for dst_edge in nodes_out[node]:\n",
    "            edge_trans_src.append(src_edge)\n",
    "            edge_trans_dst.append(dst_edge)"
   ]
  },
  {
   "cell_type": "markdown",
   "metadata": {},
   "source": [
    "# Test GCN"
   ]
  },
  {
   "cell_type": "code",
   "execution_count": 127,
   "metadata": {},
   "outputs": [],
   "source": [
    "class GCN(nn.Module):\n",
    "    def __init__(self, in_feats, hidden_size, num_classes):\n",
    "        super(GCN, self).__init__()\n",
    "        self.conv1 = GraphConv(in_feats, hidden_size)\n",
    "        self.conv2 = GraphConv(hidden_size, num_classes)\n",
    "\n",
    "    def forward(self, g, inputs):\n",
    "        h = self.conv1(g, inputs)\n",
    "        h = torch.relu(h)\n",
    "        h = self.conv2(g, h)\n",
    "        return h"
   ]
  },
  {
   "cell_type": "code",
   "execution_count": 128,
   "metadata": {},
   "outputs": [
    {
     "ename": "AttributeError",
     "evalue": "'Graph' object has no attribute 'local_scope'",
     "output_type": "error",
     "traceback": [
      "\u001b[0;31m---------------------------------------------------------------------------\u001b[0m",
      "\u001b[0;31mAttributeError\u001b[0m                            Traceback (most recent call last)",
      "\u001b[0;32m<ipython-input-128-5c34838039d7>\u001b[0m in \u001b[0;36m<module>\u001b[0;34m\u001b[0m\n\u001b[1;32m     10\u001b[0m \u001b[0;34m\u001b[0m\u001b[0m\n\u001b[1;32m     11\u001b[0m \u001b[0;32mfor\u001b[0m \u001b[0mepoch\u001b[0m \u001b[0;32min\u001b[0m \u001b[0mrange\u001b[0m\u001b[0;34m(\u001b[0m\u001b[0;36m5\u001b[0m\u001b[0;34m)\u001b[0m\u001b[0;34m:\u001b[0m\u001b[0;34m\u001b[0m\u001b[0;34m\u001b[0m\u001b[0m\n\u001b[0;32m---> 12\u001b[0;31m     \u001b[0moutputs\u001b[0m \u001b[0;34m=\u001b[0m \u001b[0mnet\u001b[0m\u001b[0;34m(\u001b[0m\u001b[0mG\u001b[0m\u001b[0;34m,\u001b[0m \u001b[0minputs\u001b[0m\u001b[0;34m)\u001b[0m\u001b[0;34m\u001b[0m\u001b[0;34m\u001b[0m\u001b[0m\n\u001b[0m\u001b[1;32m     13\u001b[0m     \u001b[0mall_logits\u001b[0m\u001b[0;34m.\u001b[0m\u001b[0mappend\u001b[0m\u001b[0;34m(\u001b[0m\u001b[0moutputs\u001b[0m\u001b[0;34m.\u001b[0m\u001b[0mdetach\u001b[0m\u001b[0;34m(\u001b[0m\u001b[0;34m)\u001b[0m\u001b[0;34m)\u001b[0m\u001b[0;34m\u001b[0m\u001b[0;34m\u001b[0m\u001b[0m\n\u001b[1;32m     14\u001b[0m     \u001b[0mlogp\u001b[0m \u001b[0;34m=\u001b[0m \u001b[0mF\u001b[0m\u001b[0;34m.\u001b[0m\u001b[0mlog_softmax\u001b[0m\u001b[0;34m(\u001b[0m\u001b[0moutputs\u001b[0m\u001b[0;34m,\u001b[0m \u001b[0;36m1\u001b[0m\u001b[0;34m)\u001b[0m\u001b[0;34m\u001b[0m\u001b[0;34m\u001b[0m\u001b[0m\n",
      "\u001b[0;32m/Library/Frameworks/Python.framework/Versions/3.8/lib/python3.8/site-packages/torch/nn/modules/module.py\u001b[0m in \u001b[0;36m_call_impl\u001b[0;34m(self, *input, **kwargs)\u001b[0m\n\u001b[1;32m    725\u001b[0m             \u001b[0mresult\u001b[0m \u001b[0;34m=\u001b[0m \u001b[0mself\u001b[0m\u001b[0;34m.\u001b[0m\u001b[0m_slow_forward\u001b[0m\u001b[0;34m(\u001b[0m\u001b[0;34m*\u001b[0m\u001b[0minput\u001b[0m\u001b[0;34m,\u001b[0m \u001b[0;34m**\u001b[0m\u001b[0mkwargs\u001b[0m\u001b[0;34m)\u001b[0m\u001b[0;34m\u001b[0m\u001b[0;34m\u001b[0m\u001b[0m\n\u001b[1;32m    726\u001b[0m         \u001b[0;32melse\u001b[0m\u001b[0;34m:\u001b[0m\u001b[0;34m\u001b[0m\u001b[0;34m\u001b[0m\u001b[0m\n\u001b[0;32m--> 727\u001b[0;31m             \u001b[0mresult\u001b[0m \u001b[0;34m=\u001b[0m \u001b[0mself\u001b[0m\u001b[0;34m.\u001b[0m\u001b[0mforward\u001b[0m\u001b[0;34m(\u001b[0m\u001b[0;34m*\u001b[0m\u001b[0minput\u001b[0m\u001b[0;34m,\u001b[0m \u001b[0;34m**\u001b[0m\u001b[0mkwargs\u001b[0m\u001b[0;34m)\u001b[0m\u001b[0;34m\u001b[0m\u001b[0;34m\u001b[0m\u001b[0m\n\u001b[0m\u001b[1;32m    728\u001b[0m         for hook in itertools.chain(\n\u001b[1;32m    729\u001b[0m                 \u001b[0m_global_forward_hooks\u001b[0m\u001b[0;34m.\u001b[0m\u001b[0mvalues\u001b[0m\u001b[0;34m(\u001b[0m\u001b[0;34m)\u001b[0m\u001b[0;34m,\u001b[0m\u001b[0;34m\u001b[0m\u001b[0;34m\u001b[0m\u001b[0m\n",
      "\u001b[0;32m<ipython-input-127-f04b645d21a7>\u001b[0m in \u001b[0;36mforward\u001b[0;34m(self, g, inputs)\u001b[0m\n\u001b[1;32m      6\u001b[0m \u001b[0;34m\u001b[0m\u001b[0m\n\u001b[1;32m      7\u001b[0m     \u001b[0;32mdef\u001b[0m \u001b[0mforward\u001b[0m\u001b[0;34m(\u001b[0m\u001b[0mself\u001b[0m\u001b[0;34m,\u001b[0m \u001b[0mg\u001b[0m\u001b[0;34m,\u001b[0m \u001b[0minputs\u001b[0m\u001b[0;34m)\u001b[0m\u001b[0;34m:\u001b[0m\u001b[0;34m\u001b[0m\u001b[0;34m\u001b[0m\u001b[0m\n\u001b[0;32m----> 8\u001b[0;31m         \u001b[0mh\u001b[0m \u001b[0;34m=\u001b[0m \u001b[0mself\u001b[0m\u001b[0;34m.\u001b[0m\u001b[0mconv1\u001b[0m\u001b[0;34m(\u001b[0m\u001b[0mg\u001b[0m\u001b[0;34m,\u001b[0m \u001b[0minputs\u001b[0m\u001b[0;34m)\u001b[0m\u001b[0;34m\u001b[0m\u001b[0;34m\u001b[0m\u001b[0m\n\u001b[0m\u001b[1;32m      9\u001b[0m         \u001b[0mh\u001b[0m \u001b[0;34m=\u001b[0m \u001b[0mtorch\u001b[0m\u001b[0;34m.\u001b[0m\u001b[0mrelu\u001b[0m\u001b[0;34m(\u001b[0m\u001b[0mh\u001b[0m\u001b[0;34m)\u001b[0m\u001b[0;34m\u001b[0m\u001b[0;34m\u001b[0m\u001b[0m\n\u001b[1;32m     10\u001b[0m         \u001b[0mh\u001b[0m \u001b[0;34m=\u001b[0m \u001b[0mself\u001b[0m\u001b[0;34m.\u001b[0m\u001b[0mconv2\u001b[0m\u001b[0;34m(\u001b[0m\u001b[0mg\u001b[0m\u001b[0;34m,\u001b[0m \u001b[0mh\u001b[0m\u001b[0;34m)\u001b[0m\u001b[0;34m\u001b[0m\u001b[0;34m\u001b[0m\u001b[0m\n",
      "\u001b[0;32m/Library/Frameworks/Python.framework/Versions/3.8/lib/python3.8/site-packages/torch/nn/modules/module.py\u001b[0m in \u001b[0;36m_call_impl\u001b[0;34m(self, *input, **kwargs)\u001b[0m\n\u001b[1;32m    725\u001b[0m             \u001b[0mresult\u001b[0m \u001b[0;34m=\u001b[0m \u001b[0mself\u001b[0m\u001b[0;34m.\u001b[0m\u001b[0m_slow_forward\u001b[0m\u001b[0;34m(\u001b[0m\u001b[0;34m*\u001b[0m\u001b[0minput\u001b[0m\u001b[0;34m,\u001b[0m \u001b[0;34m**\u001b[0m\u001b[0mkwargs\u001b[0m\u001b[0;34m)\u001b[0m\u001b[0;34m\u001b[0m\u001b[0;34m\u001b[0m\u001b[0m\n\u001b[1;32m    726\u001b[0m         \u001b[0;32melse\u001b[0m\u001b[0;34m:\u001b[0m\u001b[0;34m\u001b[0m\u001b[0;34m\u001b[0m\u001b[0m\n\u001b[0;32m--> 727\u001b[0;31m             \u001b[0mresult\u001b[0m \u001b[0;34m=\u001b[0m \u001b[0mself\u001b[0m\u001b[0;34m.\u001b[0m\u001b[0mforward\u001b[0m\u001b[0;34m(\u001b[0m\u001b[0;34m*\u001b[0m\u001b[0minput\u001b[0m\u001b[0;34m,\u001b[0m \u001b[0;34m**\u001b[0m\u001b[0mkwargs\u001b[0m\u001b[0;34m)\u001b[0m\u001b[0;34m\u001b[0m\u001b[0;34m\u001b[0m\u001b[0m\n\u001b[0m\u001b[1;32m    728\u001b[0m         for hook in itertools.chain(\n\u001b[1;32m    729\u001b[0m                 \u001b[0m_global_forward_hooks\u001b[0m\u001b[0;34m.\u001b[0m\u001b[0mvalues\u001b[0m\u001b[0;34m(\u001b[0m\u001b[0;34m)\u001b[0m\u001b[0;34m,\u001b[0m\u001b[0;34m\u001b[0m\u001b[0;34m\u001b[0m\u001b[0m\n",
      "\u001b[0;32m/Library/Frameworks/Python.framework/Versions/3.8/lib/python3.8/site-packages/dgl/nn/pytorch/conv/graphconv.py\u001b[0m in \u001b[0;36mforward\u001b[0;34m(self, graph, feat, weight)\u001b[0m\n\u001b[1;32m    232\u001b[0m         \u001b[0;34m*\u001b[0m \u001b[0mWeight\u001b[0m \u001b[0mshape\u001b[0m\u001b[0;34m:\u001b[0m \u001b[0;34m:\u001b[0m\u001b[0mmath\u001b[0m\u001b[0;34m:\u001b[0m\u001b[0;31m`\u001b[0m\u001b[0;34m(\u001b[0m\u001b[0;31m\\\u001b[0m\u001b[0mtext\u001b[0m\u001b[0;34m{\u001b[0m\u001b[0min_feats\u001b[0m\u001b[0;34m}\u001b[0m\u001b[0;34m,\u001b[0m\u001b[0;31m \u001b[0m\u001b[0;31m\\\u001b[0m\u001b[0mtext\u001b[0m\u001b[0;34m{\u001b[0m\u001b[0mout_feats\u001b[0m\u001b[0;34m}\u001b[0m\u001b[0;34m)\u001b[0m\u001b[0;31m`\u001b[0m\u001b[0;34m.\u001b[0m\u001b[0;34m\u001b[0m\u001b[0;34m\u001b[0m\u001b[0m\n\u001b[1;32m    233\u001b[0m         \"\"\"\n\u001b[0;32m--> 234\u001b[0;31m         \u001b[0;32mwith\u001b[0m \u001b[0mgraph\u001b[0m\u001b[0;34m.\u001b[0m\u001b[0mlocal_scope\u001b[0m\u001b[0;34m(\u001b[0m\u001b[0;34m)\u001b[0m\u001b[0;34m:\u001b[0m\u001b[0;34m\u001b[0m\u001b[0;34m\u001b[0m\u001b[0m\n\u001b[0m\u001b[1;32m    235\u001b[0m             \u001b[0;32mif\u001b[0m \u001b[0;32mnot\u001b[0m \u001b[0mself\u001b[0m\u001b[0;34m.\u001b[0m\u001b[0m_allow_zero_in_degree\u001b[0m\u001b[0;34m:\u001b[0m\u001b[0;34m\u001b[0m\u001b[0;34m\u001b[0m\u001b[0m\n\u001b[1;32m    236\u001b[0m                 \u001b[0;32mif\u001b[0m \u001b[0;34m(\u001b[0m\u001b[0mgraph\u001b[0m\u001b[0;34m.\u001b[0m\u001b[0min_degrees\u001b[0m\u001b[0;34m(\u001b[0m\u001b[0;34m)\u001b[0m \u001b[0;34m==\u001b[0m \u001b[0;36m0\u001b[0m\u001b[0;34m)\u001b[0m\u001b[0;34m.\u001b[0m\u001b[0many\u001b[0m\u001b[0;34m(\u001b[0m\u001b[0;34m)\u001b[0m\u001b[0;34m:\u001b[0m\u001b[0;34m\u001b[0m\u001b[0;34m\u001b[0m\u001b[0m\n",
      "\u001b[0;31mAttributeError\u001b[0m: 'Graph' object has no attribute 'local_scope'"
     ]
    }
   ],
   "source": [
    "net = GCN(4, 8, 1)\n",
    "\n",
    "inputs = torch.tensor(edges)\n",
    "labels = torch.tensor(label_list)\n",
    "\n",
    "import itertools\n",
    "\n",
    "optimizer = torch.optim.Adam(itertools.chain(net.parameters(), embed.parameters()), lr=0.01)\n",
    "all_logits = []\n",
    "\n",
    "for epoch in range(5):\n",
    "    outputs = net(G, inputs)\n",
    "    all_logits.append(outputs.detach())\n",
    "    logp = F.log_softmax(outputs, 1)\n",
    "    loss = F.nll_loss(logp, labels)\n",
    "\n",
    "    optimizer.zero_grad()\n",
    "    loss.backward()\n",
    "    optimizer.step()\n",
    "\n",
    "    print('Epoch %d | Loss: %.4f' % (epoch, loss.item()))"
   ]
  },
  {
   "cell_type": "code",
   "execution_count": 124,
   "metadata": {},
   "outputs": [
    {
     "name": "stdout",
     "output_type": "stream",
     "text": [
      "Parameter containing:\n",
      "tensor([[ 0.8246, -0.1906,  1.2754,  0.4698, -1.3570],\n",
      "        [ 0.7719, -1.8789,  1.0654,  0.8230,  1.8617],\n",
      "        [-0.0866,  0.9811, -1.5231,  1.6908,  0.8858],\n",
      "        [ 1.5018,  0.3441,  1.6450,  0.3878, -0.0596],\n",
      "        [ 0.3118,  0.5502,  0.3589,  1.0514,  0.1535],\n",
      "        [ 0.0906,  0.5379,  0.7461,  1.1942,  0.0101],\n",
      "        [ 1.5230,  0.8418, -0.5711, -1.1333,  1.1635],\n",
      "        [-0.6574, -1.4000, -0.4235, -1.6046,  1.4157],\n",
      "        [ 0.0067, -0.0286,  0.3520,  0.1327,  1.2163],\n",
      "        [-0.0348,  0.2608,  0.5652,  0.2905,  1.3915],\n",
      "        [ 0.6491, -0.5192, -0.1072,  1.7798, -0.8679],\n",
      "        [-0.4581,  1.6383,  1.3244,  1.5988, -2.0479],\n",
      "        [-0.7217,  0.1399, -0.6149, -1.3169, -0.7735],\n",
      "        [ 0.3606, -0.1396, -0.5653,  0.6796,  0.3161],\n",
      "        [-0.7171, -0.5231, -1.5098,  0.4951,  0.5634],\n",
      "        [ 0.9327,  0.6712, -0.1886, -1.7913, -0.4172],\n",
      "        [-1.7446, -2.7783, -2.1129, -1.9988, -0.6813],\n",
      "        [ 0.9399, -0.7510,  0.3755,  0.3459,  0.1551],\n",
      "        [-1.2172, -1.1688, -1.1974,  0.5012, -0.0968],\n",
      "        [-0.0841, -0.1214,  0.4709, -0.6038,  1.9410],\n",
      "        [ 0.3822,  0.1813,  0.1761,  0.0831, -2.6634],\n",
      "        [-1.2173, -0.8370, -0.0264, -0.6408, -0.6269],\n",
      "        [ 0.6787,  2.4581, -0.3563, -0.6728,  0.1875],\n",
      "        [ 1.9824, -0.2095,  2.0198, -0.7981, -0.4144],\n",
      "        [ 0.1669, -0.7239, -0.1977,  0.5351, -0.2256],\n",
      "        [ 0.2915,  0.9475, -0.7077,  1.4787,  0.1195],\n",
      "        [ 1.5539, -1.0619, -1.3859, -0.0227, -0.1353],\n",
      "        [-0.7589, -0.8949,  1.3491, -0.6342,  0.8470],\n",
      "        [-0.7733,  0.3673,  0.1679, -0.2561,  0.3049],\n",
      "        [ 0.0554, -0.0946,  0.1298, -0.1699, -0.5333],\n",
      "        [-0.6064,  0.6551,  0.8521, -0.9243,  0.7103],\n",
      "        [-0.4338, -0.1548, -0.6841,  0.2021,  1.6454],\n",
      "        [ 0.2707,  1.5069,  1.3196,  0.1901, -0.1221],\n",
      "        [ 0.6029,  0.1882, -0.1973, -0.3747,  0.0246]], requires_grad=True)\n",
      "tensor([[ 3957., 15394., 13556.,     0.],\n",
      "        [ 3957., 15394., 13556.,     0.],\n",
      "        [15394.,  4800., 35567.,   308.],\n",
      "        ...,\n",
      "        [21708., 11097., 20898.,  1793.],\n",
      "        [21708., 11097., 20898.,  1793.],\n",
      "        [21708., 11097., 20898.,  1793.]], dtype=torch.float64)\n",
      "[0, 0, 0, 0, 0, 0, 0, 0, 0, 0, 0, 0, 0, 0, 0, 0, 0, 0, 0, 0, 0, 0, 0, 0, 0, 0, 0, 0, 0, 0, 0, 0, 0, 0, 0, 0, 0, 0, 0, 0, 0, 0, 0, 0, 0, 0, 0, 0, 0, 0, 0, 0, 0, 0, 0, 0, 0, 0, 0, 0, 0, 0, 0, 0, 0, 0, 0, 0, 0, 0, 0, 0, 0, 0, 0, 0, 0, 0, 0, 0, 0, 0, 0, 0, 0, 0, 0, 0, 0, 0, 0, 0, 0, 0, 0, 0, 0, 0, 0, 0, 0, 0, 0, 0, 0, 0, 0, 0, 0, 0, 0, 0, 0]\n"
     ]
    }
   ],
   "source": [
    "embed = nn.Embedding(34, 5)  # 34 nodes with embedding dim equal to 5\n",
    "inputs = embed.weight\n",
    "print(inputs)\n",
    "inputs = torch.tensor(edges)\n",
    "print(inputs)\n",
    "# print(label_list)\n",
    "labels = torch.tensor(label_list)"
   ]
  },
  {
   "cell_type": "markdown",
   "metadata": {},
   "source": [
    "# Test GraphSAGE Edge Classification"
   ]
  },
  {
   "cell_type": "code",
   "execution_count": 7,
   "metadata": {},
   "outputs": [],
   "source": [
    "# Graph Generate\n",
    "\n",
    "path = 'data/train/train_000.txt'\n",
    "src = []\n",
    "dst = []\n",
    "ports = []\n",
    "times = []\n",
    "labels = []\n",
    "\n",
    "data = open(path)\n",
    "for line in data:\n",
    "    src_ip, dst_ip, port, timestamp, connection_type = line.split()\n",
    "    src.append(int(src_ip))\n",
    "    dst.append(int(dst_ip))\n",
    "    ports.append(int(port))\n",
    "    times.append(int(timestamp))\n",
    "    labels.append(label(connection_type))\n",
    "    \n",
    "graph = dgl.graph((src, dst))\n",
    "graph.edata['port'] = torch.tensor(ports)\n",
    "graph.edata['time'] = torch.tensor(times)\n",
    "graph.edata['label'] = torch.tensor(labels)"
   ]
  },
  {
   "cell_type": "code",
   "execution_count": 10,
   "metadata": {},
   "outputs": [
    {
     "name": "stdout",
     "output_type": "stream",
     "text": [
      "841\n",
      "841\n",
      "23318\n",
      "841\n"
     ]
    }
   ],
   "source": [
    "# Print Graph Status\n",
    "\n",
    "print(len(src))\n",
    "print(len(dst))\n",
    "\n",
    "print(graph.number_of_nodes())\n",
    "print(graph.number_of_edges())"
   ]
  },
  {
   "cell_type": "code",
   "execution_count": null,
   "metadata": {},
   "outputs": [],
   "source": [
    "class SAGE(nn.Module):\n",
    "    def __init__(self, in_dim, hidden_dim, out_dim):\n",
    "        super().__init__()\n",
    "        self.conv1 = dgl.nn.SAGEConv(in_dim, hidden_dim, aggregator_type='mean')\n",
    "        self.conv2 = dgl.nn.SAGEConv(hidden_dim, out_dim, aggregator_type='mean')\n",
    "        \n",
    "    def forward(self, graph, inputs):\n",
    "        h = self.conv1(graph, inputs)\n",
    "        h = F.relu(h)\n",
    "        h = self.conv2(graph, h)\n",
    "        return h"
   ]
  },
  {
   "cell_type": "markdown",
   "metadata": {},
   "source": [
    "# Example"
   ]
  },
  {
   "cell_type": "code",
   "execution_count": 115,
   "metadata": {},
   "outputs": [
    {
     "name": "stdout",
     "output_type": "stream",
     "text": [
      "Embedding(34, 5)\n"
     ]
    }
   ],
   "source": [
    "nn.Embedding(34, 5)\n",
    "print(nn.Embedding(34, 5))"
   ]
  },
  {
   "cell_type": "code",
   "execution_count": 11,
   "metadata": {},
   "outputs": [
    {
     "name": "stdout",
     "output_type": "stream",
     "text": [
      "We have 34 nodes.\n",
      "We have 156 edges.\n",
      "Epoch 0 | Loss: 0.8276\n",
      "Epoch 1 | Loss: 0.7819\n",
      "Epoch 2 | Loss: 0.7408\n",
      "Epoch 3 | Loss: 0.7028\n",
      "Epoch 4 | Loss: 0.6669\n",
      "Epoch 5 | Loss: 0.6327\n",
      "Epoch 6 | Loss: 0.5998\n",
      "Epoch 7 | Loss: 0.5681\n",
      "Epoch 8 | Loss: 0.5383\n",
      "Epoch 9 | Loss: 0.5096\n"
     ]
    }
   ],
   "source": [
    "###############################################################################\n",
    "# Tutorial problem description\n",
    "# ----------------------------\n",
    "#\n",
    "# The tutorial is based on the \"Zachary's karate club\" problem. The karate club\n",
    "# is a social network that includes 34 members and documents pairwise links\n",
    "# between members who interact outside the club.  The club later divides into\n",
    "# two communities led by the instructor (node 0) and the club president (node\n",
    "# 33). The network is visualized as follows with the color indicating the\n",
    "# community:\n",
    "#\n",
    "# .. image:: https://data.dgl.ai/tutorial/img/karate-club.png\n",
    "#    :align: center\n",
    "#\n",
    "# The task is to predict which side (0 or 33) each member tends to join given\n",
    "# the social network itself.\n",
    "\n",
    "\n",
    "###############################################################################\n",
    "# Step 1: Creating a graph in DGL\n",
    "# -------------------------------\n",
    "# Create the graph for Zachary's karate club as follows:\n",
    "\n",
    "import dgl\n",
    "import numpy as np\n",
    "\n",
    "def build_karate_club_graph():\n",
    "    # All 78 edges are stored in two numpy arrays. One for source endpoints\n",
    "    # while the other for destination endpoints.\n",
    "    src = np.array([1, 2, 2, 3, 3, 3, 4, 5, 6, 6, 6, 7, 7, 7, 7, 8, 8, 9, 10, 10,\n",
    "        10, 11, 12, 12, 13, 13, 13, 13, 16, 16, 17, 17, 19, 19, 21, 21,\n",
    "        25, 25, 27, 27, 27, 28, 29, 29, 30, 30, 31, 31, 31, 31, 32, 32,\n",
    "        32, 32, 32, 32, 32, 32, 32, 32, 32, 33, 33, 33, 33, 33, 33, 33,\n",
    "        33, 33, 33, 33, 33, 33, 33, 33, 33, 33])\n",
    "    dst = np.array([0, 0, 1, 0, 1, 2, 0, 0, 0, 4, 5, 0, 1, 2, 3, 0, 2, 2, 0, 4,\n",
    "        5, 0, 0, 3, 0, 1, 2, 3, 5, 6, 0, 1, 0, 1, 0, 1, 23, 24, 2, 23,\n",
    "        24, 2, 23, 26, 1, 8, 0, 24, 25, 28, 2, 8, 14, 15, 18, 20, 22, 23,\n",
    "        29, 30, 31, 8, 9, 13, 14, 15, 18, 19, 20, 22, 23, 26, 27, 28, 29, 30,\n",
    "        31, 32])\n",
    "    # Edges are directional in DGL; Make them bi-directional.\n",
    "    u = np.concatenate([src, dst])\n",
    "    v = np.concatenate([dst, src])\n",
    "    # Construct a DGLGraph\n",
    "    return dgl.graph((u, v))\n",
    "\n",
    "G = build_karate_club_graph()\n",
    "print('We have %d nodes.' % G.number_of_nodes())\n",
    "print('We have %d edges.' % G.number_of_edges())\n",
    "\n",
    "# import networkx as nx\n",
    "# nx_G = G.to_networkx().to_undirected()\n",
    "# pos = nx.kamada_kawai_layout(nx_G)\n",
    "# nx.draw(nx_G, pos, with_labels=True, node_color=[[.7, .7, .7]])\n",
    "\n",
    "import torch\n",
    "import torch.nn as nn\n",
    "import torch.nn.functional as F\n",
    "\n",
    "embed = nn.Embedding(34, 5)  # 34 nodes with embedding dim equal to 5\n",
    "G.ndata['feat'] = embed.weight\n",
    "\n",
    "# print(G.ndata['feat'][2])\n",
    "# print(G.ndata['feat'][[10, 11]])\n",
    "\n",
    "from dgl.nn.pytorch import GraphConv\n",
    "\n",
    "class GCN(nn.Module):\n",
    "    def __init__(self, in_feats, hidden_size, num_classes):\n",
    "        super(GCN, self).__init__()\n",
    "        self.conv1 = GraphConv(in_feats, hidden_size)\n",
    "        self.conv2 = GraphConv(hidden_size, num_classes)\n",
    "\n",
    "    def forward(self, g, inputs):\n",
    "        h = self.conv1(g, inputs)\n",
    "        h = torch.relu(h)\n",
    "        h = self.conv2(g, h)\n",
    "        return h\n",
    "\n",
    "net = GCN(5, 5, 2)\n",
    "\n",
    "inputs = embed.weight\n",
    "labeled_nodes = torch.tensor([0, 33])  # only the instructor and the president nodes are labeled\n",
    "labels = torch.tensor([0, 1])  # their labels are different\n",
    "\n",
    "import itertools\n",
    "\n",
    "optimizer = torch.optim.Adam(itertools.chain(net.parameters(), embed.parameters()), lr=0.01)\n",
    "all_logits = []\n",
    "for epoch in range(10):\n",
    "    logits = net(G, inputs)\n",
    "    all_logits.append(logits.detach())\n",
    "    logp = F.log_softmax(logits, 1)\n",
    "    loss = F.nll_loss(logp[labeled_nodes], labels)\n",
    "\n",
    "    optimizer.zero_grad()\n",
    "    loss.backward()\n",
    "    optimizer.step()\n",
    "\n",
    "    print('Epoch %d | Loss: %.4f' % (epoch, loss.item()))\n",
    "\n",
    "###############################################################################\n",
    "# This is a rather toy example, so it does not even have a validation or test\n",
    "# set. Instead, Since the model produces an output feature of size 2 for each node, we can\n",
    "# visualize by plotting the output feature in a 2D space.\n",
    "# The following code animates the training process from initial guess\n",
    "# (where the nodes are not classified correctly at all) to the end\n",
    "# (where the nodes are linearly separable).\n",
    "\n",
    "# import matplotlib.animation as animation\n",
    "# import matplotlib.pyplot as plt\n",
    "\n",
    "# def draw(i):\n",
    "#     cls1color = '#00FFFF'\n",
    "#     cls2color = '#FF00FF'\n",
    "#     pos = {}\n",
    "#     colors = []\n",
    "#     for v in range(34):\n",
    "#         pos[v] = all_logits[i][v].numpy()\n",
    "#         cls = pos[v].argmax()\n",
    "#         colors.append(cls1color if cls else cls2color)\n",
    "#     ax.cla()\n",
    "#     ax.axis('off')\n",
    "#     ax.set_title('Epoch: %d' % i)\n",
    "#     nx.draw_networkx(nx_G.to_undirected(), pos, node_color=colors,\n",
    "#             with_labels=True, node_size=300, ax=ax)\n",
    "\n",
    "# fig = plt.figure(dpi=150)\n",
    "# fig.clf()\n",
    "# ax = fig.subplots()\n",
    "# draw(0)  # draw the prediction of the first epoch\n",
    "# plt.close()\n",
    "\n",
    "# ani = animation.FuncAnimation(fig, draw, frames=len(all_logits), interval=200)"
   ]
  },
  {
   "cell_type": "markdown",
   "metadata": {},
   "source": [
    "Hey guys, I have tried three methods so far. \n",
    "\n",
    "Firstly, as Mansur mentioned before, I set edge features with (source ip, target, ip, port, time length), and node features with averaging edges' features connected with them. Simmlarly I occured the problem of embedding edge features in GraphSAGE layer of DGL. Seems DGL doesn't give much importance to this method, so I put this aside temporarly. \n",
    "\n",
    "Since we are encouraged to use noval methods, I was thinking can we transform edges to nodes, nodes to edges, which allows us to use node classification ways. So I designed a transform stratage to convert the origin graph to a new one, with the nodes were whose egdes in origin graph. Then based on this new graph, I used GCN and GraphSAGE created two models. But, the results were hmmm... terrible. I will show my transform method and the resons I guess about bad resutls to you later, after I generating some images. \n",
    "\n",
    "But anyway I think this method is quite novel, I am continuely optimizaing it, and find the reason about poor performance so far, which can also be shown in our report. "
   ]
  }
 ],
 "metadata": {
  "kernelspec": {
   "display_name": "Python 3",
   "language": "python",
   "name": "python3"
  },
  "language_info": {
   "codemirror_mode": {
    "name": "ipython",
    "version": 3
   },
   "file_extension": ".py",
   "mimetype": "text/x-python",
   "name": "python",
   "nbconvert_exporter": "python",
   "pygments_lexer": "ipython3",
   "version": "3.8.6"
  }
 },
 "nbformat": 4,
 "nbformat_minor": 4
}
