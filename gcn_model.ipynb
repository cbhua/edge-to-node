{
 "cells": [
  {
   "cell_type": "markdown",
   "metadata": {},
   "source": [
    "# GCN Based Model"
   ]
  },
  {
   "cell_type": "code",
   "execution_count": 9,
   "metadata": {},
   "outputs": [],
   "source": [
    "# Import packages\n",
    "\n",
    "import os\n",
    "import numpy as np\n",
    "import collections\n",
    "\n",
    "import torch\n",
    "import torch.nn as nn\n",
    "import torch.nn.functional as F\n",
    "\n",
    "import dgl\n",
    "import dgl.function as fn\n",
    "from dgl.nn.pytorch import GraphConv\n",
    "\n",
    "import networkx as nx"
   ]
  },
  {
   "cell_type": "markdown",
   "metadata": {},
   "source": [
    "## Load Data"
   ]
  },
  {
   "cell_type": "code",
   "execution_count": 5,
   "metadata": {},
   "outputs": [],
   "source": [
    "# Label Function\n",
    "\n",
    "def label(flag: str) -> int:\n",
    "    return {\n",
    "        '-': 0,\n",
    "        'snmpgetattack': 1,\n",
    "        'warez': 2,\n",
    "        'portsweep': 3,\n",
    "        'nmap': 4,\n",
    "        'warezclient': 5,\n",
    "        'ipsweep': 6,\n",
    "        'dict': 7,\n",
    "        'neptune': 8,\n",
    "        'smurf': 9,\n",
    "        'pod': 10,\n",
    "        'snmpguess': 11,\n",
    "        'teardrop': 12,\n",
    "        'satan': 13,\n",
    "        'httptunnel-e': 14,\n",
    "        'ignore': 15,\n",
    "        'mscan': 16,\n",
    "        'guest': 17,\n",
    "        'rootkit': 18,\n",
    "        'back': 19,\n",
    "        'apache2': 20,\n",
    "        'processtable': 21,\n",
    "        'mailbomb': 22,\n",
    "        'smurfttl': 23,\n",
    "        'saint': 24\n",
    "    }.get(flag)"
   ]
  },
  {
   "cell_type": "code",
   "execution_count": 42,
   "metadata": {},
   "outputs": [],
   "source": [
    "# Graph Generate\n",
    "\n",
    "path = 'data/train/train_000.txt'\n",
    "nodes = []\n",
    "nodes_in = {}\n",
    "nodes_out = {}\n",
    "\n",
    "# Feature List\n",
    "src_list = collections.OrderedDict()\n",
    "dst_list = collections.OrderedDict()\n",
    "ip_list_trans = collections.OrderedDict()\n",
    "num_edge_list = collections.OrderedDict()\n",
    "port_list = []\n",
    "time_list = []\n",
    "label_list = []\n",
    "\n",
    "# ADD UP EDGE\n",
    "# edges = np.empty([1, 4])\n",
    "edge_num = 0\n",
    "\n",
    "data = open(path)\n",
    "for line in data:\n",
    "    src_ip, dst_ip, port, time, connection_type = line.split()\n",
    "    \n",
    "    if (int(src_ip), int(dst_ip)) in ip_list_trans.keys():\n",
    "        edge_num_temp = ip_list_trans[(int(src_ip), int(dst_ip))]\n",
    "        num_edge_list[edge_num_temp] += 1\n",
    "        port_list[edge_num_temp] += int(port)\n",
    "        time_list[edge_num_temp] += int(time)\n",
    "        label_list[edge_num_temp] += label(connection_type)\n",
    "        \n",
    "        # ADD UP EDGE\n",
    "#         edges = np.vstack((edges, [int(src_ip), int(dst_ip), int(port), int(time)]))\n",
    "        \n",
    "        continue\n",
    "    \n",
    "    nodes.append(int(src_ip))\n",
    "    nodes.append(int(dst_ip))\n",
    "    \n",
    "    ip_list_trans[(int(src_ip), int(dst_ip))] = edge_num\n",
    "    src_list[edge_num] = int(src_ip)\n",
    "    dst_list[edge_num] = int(dst_ip)\n",
    "    num_edge_list[edge_num] = 1\n",
    "    port_list.append(int(port))\n",
    "    time_list.append(int(time))\n",
    "    label_list.append(label(connection_type))\n",
    "    \n",
    "    # ADD UP EDGE\n",
    "#     edges = np.vstack((edges, [int(src_ip), int(dst_ip), int(port), int(time)]))\n",
    "    \n",
    "    if int(dst_ip) in nodes_in.keys():\n",
    "        nodes_in[dst_ip].append(edge_num)\n",
    "    else:\n",
    "        nodes_in[dst_ip] = [edge_num]\n",
    "        \n",
    "    if int(src_ip) in nodes_out.keys():\n",
    "        nodes_out[src_ip].append(edge_num)\n",
    "    else:\n",
    "        nodes_out[src_ip] = [edge_num]\n",
    "    edge_num += 1\n",
    "        \n",
    "nodes = list(set(nodes))\n",
    "edge_trans_src = []\n",
    "edge_trans_dst = []\n",
    "\n",
    "# ADD UP EDGE\n",
    "# edges = np.delete(edges, obj=0, axis=0)\n",
    "\n",
    "nodes_cal = list(set(nodes_in.keys()).intersection(set(nodes_out.keys())))\n",
    "\n",
    "for node in nodes_cal:\n",
    "    for src_edge in nodes_in[node]:\n",
    "        for dst_edge in nodes_out[node]:\n",
    "            edge_trans_src.append(src_edge)\n",
    "            edge_trans_dst.append(dst_edge)"
   ]
  },
  {
   "cell_type": "code",
   "execution_count": 43,
   "metadata": {},
   "outputs": [],
   "source": [
    "graph = dgl.DGLGraph()\n",
    "graph.add_nodes(len(ip_list_trans.keys()))\n",
    "graph.add_edges(edge_trans_src, edge_trans_dst)\n",
    "\n",
    "graph.ndata['src_ip'] = torch.tensor(list(src_list.values()))\n",
    "graph.ndata['dst_ip'] = torch.tensor(list(dst_list.values()))\n",
    "graph.ndata['port'] = torch.tensor(port_list)\n",
    "graph.ndata['time'] = torch.tensor(time_list)\n",
    "graph.ndata['label'] = torch.tensor(label_list)\n",
    "\n",
    "graph = dgl.add_self_loop(graph)"
   ]
  },
  {
   "cell_type": "code",
   "execution_count": 44,
   "metadata": {},
   "outputs": [],
   "source": [
    "edges = np.empty([1, 4]).astype(np.float32)\n",
    "for i in range(len(ip_list_trans.keys())):\n",
    "    edges = np.vstack((edges, [src_list[i], dst_list[i], port_list[i], time_list[i]]))\n",
    "edges = np.delete(edges, obj=0, axis=0) \n",
    "edges = edges.astype(np.float32)"
   ]
  },
  {
   "cell_type": "code",
   "execution_count": 76,
   "metadata": {},
   "outputs": [
    {
     "name": "stdout",
     "output_type": "stream",
     "text": [
      "113\n",
      "127\n",
      "(113, 4)\n",
      "float32\n"
     ]
    }
   ],
   "source": [
    "print(graph.number_of_nodes())\n",
    "print(graph.number_of_edges())\n",
    "print(edges.shape)\n",
    "print(edges.dtype)\n",
    "\n",
    "# labels = torch.tensor(label_list)\n",
    "# print(labels + 1)\n",
    "\n",
    "labels_2dim = torch.tensor(np.ones([113, 1]).astype(np.float32)) "
   ]
  },
  {
   "cell_type": "markdown",
   "metadata": {},
   "source": [
    "# GCN Model"
   ]
  },
  {
   "cell_type": "code",
   "execution_count": 28,
   "metadata": {},
   "outputs": [],
   "source": [
    "class GCN(nn.Module):\n",
    "    def __init__(self, in_feats, hidden_size, num_classes):\n",
    "        super(GCN, self).__init__()\n",
    "        self.conv1 = GraphConv(in_feats, hidden_size)\n",
    "        self.conv2 = GraphConv(hidden_size, num_classes)\n",
    "\n",
    "    def forward(self, g, inputs):\n",
    "        h = self.conv1(g, inputs)\n",
    "        h = torch.relu(h)\n",
    "        h = self.conv2(g, h)\n",
    "        return h"
   ]
  },
  {
   "cell_type": "markdown",
   "metadata": {},
   "source": [
    "## Train"
   ]
  },
  {
   "cell_type": "code",
   "execution_count": null,
   "metadata": {},
   "outputs": [],
   "source": [
    "net = GCN(4, 8, 1)\n",
    "\n",
    "inputs = torch.tensor(edges)\n",
    "labels = torch.tensor(label_list) + 1\n",
    "# labels = torch.tensor(np.arange(113).astype(np.long))\n",
    "\n",
    "# print(len(inputs))\n",
    "# print(len(labels))\n",
    "\n",
    "import itertools\n",
    "\n",
    "optimizer = torch.optim.Adam(itertools.chain(net.parameters()), lr=0.01)\n",
    "all_logits = []\n",
    "loss_function = nn.MSELoss()\n",
    "\n",
    "for epoch in range(500):\n",
    "    outputs = net(graph, inputs)\n",
    "    all_logits.append(outputs.detach())\n",
    "    \n",
    "#     print(outputs)\n",
    "#     logp = F.log_softmax(outputs, 1)\n",
    "    \n",
    "#     print(logp)\n",
    "#     print(labels)\n",
    "\n",
    "#     print(outputs)\n",
    "#     print(labels_2dim)\n",
    "\n",
    "    loss = loss_function(outputs, labels_2dim)\n",
    "\n",
    "    optimizer.zero_grad()\n",
    "    loss.backward()\n",
    "    optimizer.step()\n",
    "\n",
    "    print('Epoch %d | Loss: %.4f' % (epoch, loss.item()))"
   ]
  },
  {
   "cell_type": "markdown",
   "metadata": {},
   "source": [
    "## Fixed Load Data"
   ]
  },
  {
   "cell_type": "code",
   "execution_count": null,
   "metadata": {},
   "outputs": [],
   "source": []
  }
 ],
 "metadata": {
  "kernelspec": {
   "display_name": "Python 3",
   "language": "python",
   "name": "python3"
  },
  "language_info": {
   "codemirror_mode": {
    "name": "ipython",
    "version": 3
   },
   "file_extension": ".py",
   "mimetype": "text/x-python",
   "name": "python",
   "nbconvert_exporter": "python",
   "pygments_lexer": "ipython3",
   "version": "3.8.6"
  }
 },
 "nbformat": 4,
 "nbformat_minor": 4
}
