{
 "cells": [
  {
   "cell_type": "markdown",
   "metadata": {},
   "source": [
    "# Data Loader For Multi Files\n",
    "\n",
    "Combine single data loader."
   ]
  },
  {
   "cell_type": "markdown",
   "metadata": {},
   "source": [
    "## Load Packages"
   ]
  },
  {
   "cell_type": "code",
   "execution_count": 2,
   "metadata": {},
   "outputs": [],
   "source": [
    "import os\n",
    "import dgl\n",
    "import torch\n",
    "import collections\n",
    "import numpy as np\n",
    "import networkx as nx\n",
    "import matplotlib.pyplot as plt"
   ]
  },
  {
   "cell_type": "markdown",
   "metadata": {},
   "source": [
    "## Tool Functions"
   ]
  },
  {
   "cell_type": "markdown",
   "metadata": {},
   "source": [
    "### Label Function\n",
    "\n",
    "Converge TCP attack type to int. "
   ]
  },
  {
   "cell_type": "code",
   "execution_count": 3,
   "metadata": {},
   "outputs": [],
   "source": [
    "def label(flag: str) -> int:\n",
    "    return {\n",
    "        '-': 0,\n",
    "        'snmpgetattack': 1,\n",
    "        'warez': 2,\n",
    "        'portsweep': 3,\n",
    "        'nmap': 4,\n",
    "        'warezclient': 5,\n",
    "        'ipsweep': 6,\n",
    "        'dict': 7,\n",
    "        'neptune': 8,\n",
    "        'smurf': 9,\n",
    "        'pod': 10,\n",
    "        'snmpguess': 11,\n",
    "        'teardrop': 12,\n",
    "        'satan': 13,\n",
    "        'httptunnel-e': 14,\n",
    "        'ignore': 15,\n",
    "        'mscan': 16,\n",
    "        'guest': 17,\n",
    "        'rootkit': 18,\n",
    "        'back': 19,\n",
    "        'apache2': 20,\n",
    "        'processtable': 21,\n",
    "        'mailbomb': 22,\n",
    "        'smurfttl': 23,\n",
    "        'saint': 24\n",
    "    }.get(flag[:-1])"
   ]
  },
  {
   "cell_type": "markdown",
   "metadata": {},
   "source": [
    "### Line Split Function"
   ]
  },
  {
   "cell_type": "code",
   "execution_count": 4,
   "metadata": {},
   "outputs": [],
   "source": [
    "def line_split(line: str) -> tuple:\n",
    "    src_ip, dst_ip, port, time, connect_type = line.split('\\t')\n",
    "    return int(src_ip), int(dst_ip), int(port), int(time), label(connect_type)"
   ]
  },
  {
   "cell_type": "markdown",
   "metadata": {},
   "source": [
    "## Parameters"
   ]
  },
  {
   "cell_type": "code",
   "execution_count": 14,
   "metadata": {},
   "outputs": [],
   "source": [
    "# Data File Path\n",
    "\n",
    "train_set_path = 'data/train'\n",
    "valid_set_path = 'data/valid_query'\n",
    "test_set_path = 'data/test_query'\n",
    "\n",
    "train_set_list = os.listdir(train_set_path)\n",
    "valid_set_list = os.listdir(valid_set_path)\n",
    "test_set_path = os.listdir(test_set_path)\n",
    "\n",
    "file_index = 0\n",
    "\n",
    "# Features\n",
    "\n",
    "src_in_degree = collections.OrderedDict()\n",
    "src_out_degree = collections.OrderedDict()\n",
    "dst_in_degree = collections.OrderedDict()\n",
    "dst_out_degree = collections.OrderedDict()\n",
    "\n",
    "port_num = collections.OrderedDict()\n",
    "port_list = collections.OrderedDict()\n",
    "time_len = collections.OrderedDict()\n",
    "connect_num = collections.OrderedDict()\n",
    "label_list = collections.OrderedDict()\n",
    "\n",
    "# Tool Parameters\n",
    "\n",
    "nodes_origin = []\n",
    "edges_origin = {}\n",
    "\n",
    "edges_trans_src = []\n",
    "edges_trans_dst = []\n",
    "\n",
    "node_in_degree = {}\n",
    "node_out_degree = {}\n",
    "\n",
    "node_in_edges = {}\n",
    "node_out_edges = {}\n",
    "\n",
    "edge_src_list = {}\n",
    "edge_dst_list = {}\n",
    "\n",
    "# Count Parameters\n",
    "\n",
    "edge_index = 0"
   ]
  },
  {
   "cell_type": "markdown",
   "metadata": {},
   "source": [
    "## Load Data"
   ]
  },
  {
   "cell_type": "code",
   "execution_count": null,
   "metadata": {},
   "outputs": [],
   "source": [
    "for file in train_set_list:\n",
    "    file_index += 1\n",
    "    if file_index == 114:\n",
    "        continue\n",
    "    print('Loading File {}/{}...'.format(file_index, len(train_set_list)), end='\\r')\n",
    "    \n",
    "    file_path = train_set_path + '/' + file\n",
    "    data = open(file_path)\n",
    "    \n",
    "    for line in data:\n",
    "        src_ip, dst_ip, port, time, connect_type = line_split(line)\n",
    "\n",
    "        # Repeat Connections\n",
    "        if (src_ip, dst_ip) in edges_origin.keys():\n",
    "            edge_index_temp = edges_origin[(src_ip, dst_ip)]\n",
    "\n",
    "            # Assign Features\n",
    "            time_len[edge_index_temp] += time\n",
    "            connect_num[edge_index_temp] += 1\n",
    "            label_list[edge_index_temp][connect_type] += 1\n",
    "            if port in port_list[edge_index_temp]:\n",
    "                pass\n",
    "            else:\n",
    "                port_num[edge_index_temp] += 1\n",
    "                port_list[edge_index_temp].append(port)\n",
    "\n",
    "        # New Connections     \n",
    "        else:\n",
    "            # Record Origin Node and Edge\n",
    "            nodes_origin.append(src_ip)\n",
    "            nodes_origin.append(dst_ip)\n",
    "            edges_origin[(src_ip, dst_ip)] = edge_index\n",
    "\n",
    "            # Update Node Parameters\n",
    "            if src_ip in node_out_degree.keys():\n",
    "                node_out_degree[src_ip] += 1\n",
    "            else:\n",
    "                node_out_degree[src_ip] = 1\n",
    "            if dst_ip in node_in_degree.keys():\n",
    "                node_in_degree[dst_ip] += 1\n",
    "            else:\n",
    "                node_in_degree[dst_ip] = 1\n",
    "\n",
    "            # Store Nodes' In-Out Edges\n",
    "            if src_ip in node_out_edges.keys():\n",
    "                node_out_edges[src_ip].append(edge_index)\n",
    "            else:\n",
    "                node_out_edges[src_ip] = [edge_index]\n",
    "            if dst_ip in node_in_edges.keys():\n",
    "                node_in_edges[dst_ip].append(edge_index)\n",
    "            else:\n",
    "                node_in_edges[dst_ip] = [edge_index]\n",
    "\n",
    "            # Update Edge Parameters\n",
    "            if edge_index in edge_src_list.keys():\n",
    "                edge_src_list[edge_index].append(src_ip)\n",
    "            else:\n",
    "                edge_src_list[edge_index] = [src_ip]\n",
    "            if edge_index in edge_dst_list.keys():\n",
    "                edge_dst_list[edge_index].append(dst_ip)\n",
    "            else:\n",
    "                edge_dst_list[edge_index] = [dst_ip]\n",
    "\n",
    "            # Assign Features\n",
    "            port_num[edge_index] = 1\n",
    "            port_list[edge_index] = [port]\n",
    "            time_len[edge_index] = time\n",
    "            connect_num[edge_index] = 1\n",
    "            label_list[edge_index] = [0 * x for x in range(25)]\n",
    "            label_list[edge_index][connect_type] += 1\n",
    "\n",
    "            edge_index += 1\n",
    "            \n",
    "print('Data Loading Done')"
   ]
  },
  {
   "cell_type": "code",
   "execution_count": 16,
   "metadata": {},
   "outputs": [],
   "source": [
    "# Remove Repeats\n",
    "nodes_origin = list(set(nodes_origin))\n",
    "for i in range(len(edge_src_list)):\n",
    "    edge_src_list[i] = list(set(edge_src_list[i]))\n",
    "for i in range(len(edge_dst_list)):\n",
    "    edge_dst_list[i] = list(set(edge_dst_list[i]))\n",
    "    \n",
    "# Create Transform Graph\n",
    "for node in nodes_origin:\n",
    "    if not node in node_in_edges.keys() or not node in node_out_edges.keys():\n",
    "        continue\n",
    "    if not node_in_edges[node] or not node_out_edges[node]:\n",
    "        continue\n",
    "    for src_edge in node_in_edges[node]:\n",
    "        for dst_edge in node_out_edges[node]:\n",
    "            edges_trans_src.append(src_edge)\n",
    "            edges_trans_dst.append(dst_edge)"
   ]
  },
  {
   "cell_type": "code",
   "execution_count": 17,
   "metadata": {},
   "outputs": [],
   "source": [
    "# Create Features\n",
    "for edge in edge_src_list.keys():\n",
    "    if edge_src_list[edge][0] not in node_in_degree.keys():\n",
    "        src_in_degree[edge] = 0\n",
    "    else:\n",
    "        src_in_degree[edge] = node_in_degree[edge_src_list[edge][0]]\n",
    "    if edge_src_list[edge][0] not in node_out_degree.keys():\n",
    "        src_out_degree[edge] = 0\n",
    "    else:\n",
    "        src_out_degree[edge] = node_out_degree[edge_src_list[edge][0]]\n",
    "    \n",
    "for edge in edge_dst_list.keys():\n",
    "    if edge_dst_list[edge][0] not in node_in_degree.keys():\n",
    "        dst_in_degree[edge] = 0\n",
    "    else:\n",
    "        dst_in_degree[edge] = node_in_degree[edge_dst_list[edge][0]]\n",
    "    if edge_dst_list[edge][0] not in node_out_degree.keys():\n",
    "        dst_out_degree[edge] = 0\n",
    "    else:\n",
    "        dst_out_degree[edge] = node_out_degree[edge_dst_list[edge][0]]"
   ]
  },
  {
   "cell_type": "markdown",
   "metadata": {},
   "source": [
    "### Normalization Features"
   ]
  },
  {
   "cell_type": "code",
   "execution_count": 18,
   "metadata": {},
   "outputs": [],
   "source": [
    "src_in_degree_norm = list(src_in_degree.values()) / np.linalg.norm(list(src_in_degree.values()))\n",
    "src_out_degree_norm = list(src_out_degree.values()) / np.linalg.norm(list(src_out_degree.values()))\n",
    "dst_in_degree_norm = list(dst_in_degree.values()) / np.linalg.norm(list(dst_in_degree.values()))\n",
    "dst_out_degree_norm = list(dst_out_degree.values()) / np.linalg.norm(list(dst_out_degree.values()))\n",
    "\n",
    "port_num_norm = list(port_num.values()) / np.linalg.norm(list(port_num.values()))\n",
    "time_len_norm = list(time_len.values()) / np.linalg.norm(list(time_len.values()))\n",
    "connect_num_norm = list(connect_num.values()) / np.linalg.norm(list(connect_num.values()))"
   ]
  },
  {
   "cell_type": "markdown",
   "metadata": {},
   "source": [
    "### Create Feature Matrix"
   ]
  },
  {
   "cell_type": "code",
   "execution_count": 98,
   "metadata": {},
   "outputs": [],
   "source": [
    "feature_matrix = np.empty([1, 7])\n",
    "for i in range(len(edges_origin)):\n",
    "    feature_matrix = np.vstack((feature_matrix, [src_in_degree[i], src_out_degree[i], dst_in_degree[i], dst_out_degree[i], \\\n",
    "                                                 port_num[i], time_len[i], connect_num[i]]))\n",
    "feature_matrix = np.delete(feature_matrix, obj=0, axis=0)    \n",
    "feature_matrix = feature_matrix.astype(np.float32)"
   ]
  },
  {
   "cell_type": "markdown",
   "metadata": {},
   "source": [
    "### Create Normalized Feature Matrix"
   ]
  },
  {
   "cell_type": "code",
   "execution_count": 19,
   "metadata": {},
   "outputs": [],
   "source": [
    "feature_matrix = np.empty([1, 7])\n",
    "for i in range(len(edges_origin)):\n",
    "    feature_matrix = np.vstack((feature_matrix, [src_in_degree_norm[i], src_out_degree_norm[i], dst_in_degree_norm[i], dst_out_degree_norm[i], \\\n",
    "                                                 port_num_norm[i], time_len_norm[i], connect_num_norm[i]]))\n",
    "feature_matrix = np.delete(feature_matrix, obj=0, axis=0)    \n",
    "feature_matrix = feature_matrix.astype(np.float32)"
   ]
  },
  {
   "cell_type": "markdown",
   "metadata": {},
   "source": [
    "## Generate Graph"
   ]
  },
  {
   "cell_type": "markdown",
   "metadata": {},
   "source": [
    "### Use Normalized Features"
   ]
  },
  {
   "cell_type": "code",
   "execution_count": null,
   "metadata": {},
   "outputs": [],
   "source": [
    "g = dgl.DGLGraph()\n",
    "\n",
    "# Create Nodes and Edges\n",
    "\n",
    "g.add_nodes(len(edges_origin))\n",
    "g.add_edges(edges_trans_src, edges_trans_dst)\n",
    "\n",
    "# Assign Features\n",
    "\n",
    "g.ndata['src_in_degree'] = torch.tensor(src_in_degree_norm)\n",
    "g.ndata['src_out_degree'] = torch.tensor(src_out_degree_norm)\n",
    "g.ndata['dst_in_degree'] = torch.tensor(dst_in_degree_norm)\n",
    "g.ndata['dst_out_degree'] = torch.tensor(dst_out_degree_norm)\n",
    "g.ndata['port_num'] = torch.tensor(port_num_norm)\n",
    "g.ndata['time_len'] = torch.tensor(time_len_norm)\n",
    "g.ndata['connect_num'] = torch.tensor(connect_num_norm)\n",
    "\n",
    "g = dgl.add_self_loop(g)"
   ]
  },
  {
   "cell_type": "markdown",
   "metadata": {},
   "source": [
    "### Graph Status"
   ]
  },
  {
   "cell_type": "code",
   "execution_count": 21,
   "metadata": {},
   "outputs": [
    {
     "name": "stdout",
     "output_type": "stream",
     "text": [
      "Nodes Number\t39899\n",
      "Edges Number\t1495966\n"
     ]
    }
   ],
   "source": [
    "print('Nodes Number\\t{}\\nEdges Number\\t{}'.format(g.number_of_nodes(), g.number_of_edges()))\n",
    "# print(time_len_norm)"
   ]
  },
  {
   "cell_type": "markdown",
   "metadata": {},
   "source": [
    "### Show Graph"
   ]
  },
  {
   "cell_type": "code",
   "execution_count": null,
   "metadata": {},
   "outputs": [],
   "source": [
    "options = {\"node_size\": 10}\n",
    "nx.draw(g.to_networkx(), with_labels=False, **options)"
   ]
  },
  {
   "cell_type": "markdown",
   "metadata": {},
   "source": [
    "## Test on GCN"
   ]
  },
  {
   "cell_type": "code",
   "execution_count": 23,
   "metadata": {},
   "outputs": [],
   "source": [
    "import torch\n",
    "import torch.nn as nn\n",
    "import torch.nn.functional as F\n",
    "from dgl.nn.pytorch import GraphConv"
   ]
  },
  {
   "cell_type": "code",
   "execution_count": 24,
   "metadata": {},
   "outputs": [],
   "source": [
    "class GCN(nn.Module):\n",
    "    def __init__(self, in_feats, hidden_size, num_classes):\n",
    "        super(GCN, self).__init__()\n",
    "        self.conv1 = GraphConv(in_feats, hidden_size)\n",
    "        self.conv2 = GraphConv(hidden_size, num_classes)\n",
    "\n",
    "    def forward(self, g, inputs):\n",
    "        h = self.conv1(g, inputs)\n",
    "        h = torch.relu(h)\n",
    "        h = self.conv2(g, h)\n",
    "        return h"
   ]
  },
  {
   "cell_type": "code",
   "execution_count": null,
   "metadata": {},
   "outputs": [],
   "source": [
    "net = GCN(7, 16, 25)\n",
    "\n",
    "inputs = torch.tensor(feature_matrix)\n",
    "labels = torch.tensor(list(label_list.values()), dtype=torch.float32)\n",
    "\n",
    "optimizer = torch.optim.Adam(net.parameters(), lr=0.1)\n",
    "loss_func = nn.MSELoss()\n",
    "\n",
    "# Recoder\n",
    "loss_list = []\n",
    "\n",
    "for epoch in range(3000):\n",
    "    outputs = net(g, inputs)\n",
    "    loss = loss_func(outputs, labels)\n",
    "    \n",
    "    optimizer.zero_grad()\n",
    "    loss.backward()\n",
    "    optimizer.step()\n",
    "    \n",
    "    loss_list.append(loss.item() / 39899)\n",
    "    \n",
    "#     print('Epoch %d | Loss: %.4f' % (epoch, loss.item()))\n",
    "    if epoch % 100 == 0:\n",
    "        print('Epoch %d | Loss: %.4f' % (epoch, loss.item()))"
   ]
  },
  {
   "cell_type": "code",
   "execution_count": 37,
   "metadata": {},
   "outputs": [
    {
     "data": {
      "image/png": "[encoded data removed]",
      "text/plain": [
       "<Figure size 432x288 with 1 Axes>"
      ]
     },
     "metadata": {
      "needs_background": "light"
     },
     "output_type": "display_data"
    }
   ],
   "source": [
    "plt.plot(loss_list[:3500])\n",
    "plt.savefig('train-3500-0.1.png')\n",
    "plt.show()"
   ]
  }
 ],
 "metadata": {
  "kernelspec": {
   "display_name": "Python 3",
   "language": "python",
   "name": "python3"
  },
  "language_info": {
   "codemirror_mode": {
    "name": "ipython",
    "version": 3
   },
   "file_extension": ".py",
   "mimetype": "text/x-python",
   "name": "python",
   "nbconvert_exporter": "python",
   "pygments_lexer": "ipython3",
   "version": "3.8.6"
  }
 },
 "nbformat": 4,
 "nbformat_minor": 4
}
